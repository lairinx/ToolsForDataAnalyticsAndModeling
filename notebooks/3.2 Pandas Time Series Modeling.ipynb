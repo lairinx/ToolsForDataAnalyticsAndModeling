{
 "cells": [
  {
   "cell_type": "markdown",
   "metadata": {},
   "source": [
    "# Pandas Time Series Modeling\n",
    "This notebook focuses on handling date/time values in Pandas.\n",
    "\n",
    "Two reference notebooks: \n",
    "1. Notebook 03.11 Working with Time Series from VanderPlas' book\n",
    "2. Notebook 1.3 Miscellaneous Python Topics from our class repository"
   ]
  },
  {
   "cell_type": "code",
   "execution_count": 1,
   "metadata": {},
   "outputs": [
    {
     "data": {
      "text/plain": [
       "('1.18.5', '1.0.5')"
      ]
     },
     "execution_count": 1,
     "metadata": {},
     "output_type": "execute_result"
    }
   ],
   "source": [
    "%matplotlib inline\n",
    "import datetime\n",
    "import numpy as np\n",
    "import pandas as pd\n",
    "import matplotlib.pyplot as plt\n",
    "np.__version__, pd.__version__"
   ]
  },
  {
   "cell_type": "code",
   "execution_count": 2,
   "metadata": {},
   "outputs": [
    {
     "data": {
      "text/html": [
       "<div>\n",
       "<style scoped>\n",
       "    .dataframe tbody tr th:only-of-type {\n",
       "        vertical-align: middle;\n",
       "    }\n",
       "\n",
       "    .dataframe tbody tr th {\n",
       "        vertical-align: top;\n",
       "    }\n",
       "\n",
       "    .dataframe thead th {\n",
       "        text-align: right;\n",
       "    }\n",
       "</style>\n",
       "<table border=\"1\" class=\"dataframe\">\n",
       "  <thead>\n",
       "    <tr style=\"text-align: right;\">\n",
       "      <th></th>\n",
       "      <th>Month</th>\n",
       "      <th>UnemploymentRate</th>\n",
       "      <th>JobsAdded</th>\n",
       "      <th>GDP</th>\n",
       "    </tr>\n",
       "  </thead>\n",
       "  <tbody>\n",
       "    <tr>\n",
       "      <th>0</th>\n",
       "      <td>1/2008</td>\n",
       "      <td>5.0</td>\n",
       "      <td>8.0</td>\n",
       "      <td>14651.04</td>\n",
       "    </tr>\n",
       "    <tr>\n",
       "      <th>1</th>\n",
       "      <td>2/2008</td>\n",
       "      <td>4.9</td>\n",
       "      <td>-81.0</td>\n",
       "      <td>NaN</td>\n",
       "    </tr>\n",
       "    <tr>\n",
       "      <th>2</th>\n",
       "      <td>3/2008</td>\n",
       "      <td>5.1</td>\n",
       "      <td>-55.0</td>\n",
       "      <td>NaN</td>\n",
       "    </tr>\n",
       "    <tr>\n",
       "      <th>3</th>\n",
       "      <td>4/2008</td>\n",
       "      <td>5.0</td>\n",
       "      <td>-229.0</td>\n",
       "      <td>14805.61</td>\n",
       "    </tr>\n",
       "    <tr>\n",
       "      <th>4</th>\n",
       "      <td>5/2008</td>\n",
       "      <td>5.4</td>\n",
       "      <td>-184.0</td>\n",
       "      <td>NaN</td>\n",
       "    </tr>\n",
       "  </tbody>\n",
       "</table>\n",
       "</div>"
      ],
      "text/plain": [
       "    Month  UnemploymentRate  JobsAdded       GDP\n",
       "0  1/2008               5.0        8.0  14651.04\n",
       "1  2/2008               4.9      -81.0       NaN\n",
       "2  3/2008               5.1      -55.0       NaN\n",
       "3  4/2008               5.0     -229.0  14805.61\n",
       "4  5/2008               5.4     -184.0       NaN"
      ]
     },
     "execution_count": 2,
     "metadata": {},
     "output_type": "execute_result"
    }
   ],
   "source": [
    "# Consider our US Economic Data dataset\n",
    "df = pd.read_csv(\"../data/10_us_economic_data.csv\")\n",
    "df.head()"
   ]
  },
  {
   "cell_type": "code",
   "execution_count": 3,
   "metadata": {},
   "outputs": [
    {
     "data": {
      "text/plain": [
       "<matplotlib.axes._subplots.AxesSubplot at 0x1e28844d5e0>"
      ]
     },
     "execution_count": 3,
     "metadata": {},
     "output_type": "execute_result"
    },
    {
     "data": {
      "image/png": "[encoded data removed]",
      "text/plain": [
       "<Figure size 432x288 with 1 Axes>"
      ]
     },
     "metadata": {
      "needs_background": "light"
     },
     "output_type": "display_data"
    }
   ],
   "source": [
    "# Now if we want plot using the date values .... Looks ok, but what if\n",
    "# we want to zoom on specific dates -- i.e., do some date math?\n",
    "df.plot(x=\"Month\", y=\"JobsAdded\")"
   ]
  },
  {
   "cell_type": "code",
   "execution_count": 4,
   "metadata": {},
   "outputs": [
    {
     "data": {
      "text/plain": [
       "str"
      ]
     },
     "execution_count": 4,
     "metadata": {},
     "output_type": "execute_result"
    }
   ],
   "source": [
    "# The Month values look like dates (month/year), but what's the datatype?\n",
    "type(df['Month'].iloc[0])"
   ]
  },
  {
   "cell_type": "code",
   "execution_count": 5,
   "metadata": {},
   "outputs": [
    {
     "data": {
      "text/plain": [
       "('8/2009', str)"
      ]
     },
     "execution_count": 5,
     "metadata": {},
     "output_type": "execute_result"
    }
   ],
   "source": [
    "# let's grab one and see what we can do with it\n",
    "row = 19\n",
    "date_str = df['Month'].iloc[row]\n",
    "date_str, type(date_str)"
   ]
  },
  {
   "cell_type": "code",
   "execution_count": 6,
   "metadata": {},
   "outputs": [
    {
     "name": "stdout",
     "output_type": "stream",
     "text": [
      "2009-08-01 00:00:00\n"
     ]
    },
    {
     "data": {
      "text/plain": [
       "(datetime.datetime(2009, 8, 1, 0, 0), datetime.datetime)"
      ]
     },
     "execution_count": 6,
     "metadata": {},
     "output_type": "execute_result"
    }
   ],
   "source": [
    "# We can convert it to a Datetime object using the Python datetime module\n",
    "date_dtg = datetime.datetime.strptime(date_str, \"%m/%Y\")\n",
    "# Use the default print\n",
    "print(date_dtg)\n",
    "# Show the object and type\n",
    "date_dtg, type(date_dtg)"
   ]
  },
  {
   "cell_type": "code",
   "execution_count": 7,
   "metadata": {},
   "outputs": [
    {
     "data": {
      "text/html": [
       "<div>\n",
       "<style scoped>\n",
       "    .dataframe tbody tr th:only-of-type {\n",
       "        vertical-align: middle;\n",
       "    }\n",
       "\n",
       "    .dataframe tbody tr th {\n",
       "        vertical-align: top;\n",
       "    }\n",
       "\n",
       "    .dataframe thead th {\n",
       "        text-align: right;\n",
       "    }\n",
       "</style>\n",
       "<table border=\"1\" class=\"dataframe\">\n",
       "  <thead>\n",
       "    <tr style=\"text-align: right;\">\n",
       "      <th></th>\n",
       "      <th>Month</th>\n",
       "      <th>UnemploymentRate</th>\n",
       "      <th>JobsAdded</th>\n",
       "      <th>GDP</th>\n",
       "    </tr>\n",
       "  </thead>\n",
       "  <tbody>\n",
       "    <tr>\n",
       "      <th>0</th>\n",
       "      <td>2008-01-01</td>\n",
       "      <td>5.0</td>\n",
       "      <td>8.0</td>\n",
       "      <td>14651.04</td>\n",
       "    </tr>\n",
       "    <tr>\n",
       "      <th>1</th>\n",
       "      <td>2008-02-01</td>\n",
       "      <td>4.9</td>\n",
       "      <td>-81.0</td>\n",
       "      <td>NaN</td>\n",
       "    </tr>\n",
       "    <tr>\n",
       "      <th>2</th>\n",
       "      <td>2008-03-01</td>\n",
       "      <td>5.1</td>\n",
       "      <td>-55.0</td>\n",
       "      <td>NaN</td>\n",
       "    </tr>\n",
       "    <tr>\n",
       "      <th>3</th>\n",
       "      <td>2008-04-01</td>\n",
       "      <td>5.0</td>\n",
       "      <td>-229.0</td>\n",
       "      <td>14805.61</td>\n",
       "    </tr>\n",
       "    <tr>\n",
       "      <th>4</th>\n",
       "      <td>2008-05-01</td>\n",
       "      <td>5.4</td>\n",
       "      <td>-184.0</td>\n",
       "      <td>NaN</td>\n",
       "    </tr>\n",
       "  </tbody>\n",
       "</table>\n",
       "</div>"
      ],
      "text/plain": [
       "       Month  UnemploymentRate  JobsAdded       GDP\n",
       "0 2008-01-01               5.0        8.0  14651.04\n",
       "1 2008-02-01               4.9      -81.0       NaN\n",
       "2 2008-03-01               5.1      -55.0       NaN\n",
       "3 2008-04-01               5.0     -229.0  14805.61\n",
       "4 2008-05-01               5.4     -184.0       NaN"
      ]
     },
     "execution_count": 7,
     "metadata": {},
     "output_type": "execute_result"
    }
   ],
   "source": [
    "# Assuming all the date strings are nice, we could use the parse_date parameter:\n",
    "df = pd.read_csv(\"../data/10_us_economic_data.csv\", parse_dates=['Month'])\n",
    "df.head()"
   ]
  },
  {
   "cell_type": "code",
   "execution_count": 8,
   "metadata": {},
   "outputs": [
    {
     "data": {
      "text/plain": [
       "pandas._libs.tslibs.timestamps.Timestamp"
      ]
     },
     "execution_count": 8,
     "metadata": {},
     "output_type": "execute_result"
    }
   ],
   "source": [
    "# Now look at the Month column ...\n",
    "type(df['Month'].iloc[0])"
   ]
  },
  {
   "cell_type": "code",
   "execution_count": 9,
   "metadata": {},
   "outputs": [
    {
     "data": {
      "text/plain": [
       "'January 01, 2009'"
      ]
     },
     "execution_count": 9,
     "metadata": {},
     "output_type": "execute_result"
    }
   ],
   "source": [
    "df['Month'].iloc[12].strftime(\"%B %d, %Y\")"
   ]
  },
  {
   "cell_type": "code",
   "execution_count": 10,
   "metadata": {},
   "outputs": [
    {
     "data": {
      "text/plain": [
       "<matplotlib.axes._subplots.AxesSubplot at 0x1e288bb6280>"
      ]
     },
     "execution_count": 10,
     "metadata": {},
     "output_type": "execute_result"
    },
    {
     "data": {
      "image/png": "[encoded data removed]",
      "text/plain": [
       "<Figure size 432x288 with 1 Axes>"
      ]
     },
     "metadata": {
      "needs_background": "light"
     },
     "output_type": "display_data"
    }
   ],
   "source": [
    "# Now look at the plot with the month as the x axis\n",
    "df.plot(x=\"Month\", y=\"JobsAdded\")"
   ]
  },
  {
   "cell_type": "code",
   "execution_count": 11,
   "metadata": {},
   "outputs": [
    {
     "data": {
      "text/plain": [
       "Timestamp('2009-01-01 05:00:00')"
      ]
     },
     "execution_count": 11,
     "metadata": {},
     "output_type": "execute_result"
    }
   ],
   "source": [
    "# We can do date/time math, now\n",
    "# add a time component to a datetime\n",
    "df['Month'].iloc[12] + datetime.timedelta(hours=5)"
   ]
  },
  {
   "cell_type": "code",
   "execution_count": 12,
   "metadata": {},
   "outputs": [
    {
     "data": {
      "text/html": [
       "<div>\n",
       "<style scoped>\n",
       "    .dataframe tbody tr th:only-of-type {\n",
       "        vertical-align: middle;\n",
       "    }\n",
       "\n",
       "    .dataframe tbody tr th {\n",
       "        vertical-align: top;\n",
       "    }\n",
       "\n",
       "    .dataframe thead th {\n",
       "        text-align: right;\n",
       "    }\n",
       "</style>\n",
       "<table border=\"1\" class=\"dataframe\">\n",
       "  <thead>\n",
       "    <tr style=\"text-align: right;\">\n",
       "      <th></th>\n",
       "      <th>Month</th>\n",
       "      <th>UnemploymentRate</th>\n",
       "      <th>JobsAdded</th>\n",
       "      <th>GDP</th>\n",
       "      <th>DateTime</th>\n",
       "    </tr>\n",
       "  </thead>\n",
       "  <tbody>\n",
       "    <tr>\n",
       "      <th>0</th>\n",
       "      <td>2008-01-01</td>\n",
       "      <td>5.0</td>\n",
       "      <td>8.0</td>\n",
       "      <td>14651.04</td>\n",
       "      <td>2008-01-01</td>\n",
       "    </tr>\n",
       "    <tr>\n",
       "      <th>1</th>\n",
       "      <td>2008-02-01</td>\n",
       "      <td>4.9</td>\n",
       "      <td>-81.0</td>\n",
       "      <td>NaN</td>\n",
       "      <td>2008-02-01</td>\n",
       "    </tr>\n",
       "    <tr>\n",
       "      <th>2</th>\n",
       "      <td>2008-03-01</td>\n",
       "      <td>5.1</td>\n",
       "      <td>-55.0</td>\n",
       "      <td>NaN</td>\n",
       "      <td>2008-03-01</td>\n",
       "    </tr>\n",
       "    <tr>\n",
       "      <th>3</th>\n",
       "      <td>2008-04-01</td>\n",
       "      <td>5.0</td>\n",
       "      <td>-229.0</td>\n",
       "      <td>14805.61</td>\n",
       "      <td>2008-04-01</td>\n",
       "    </tr>\n",
       "    <tr>\n",
       "      <th>4</th>\n",
       "      <td>2008-05-01</td>\n",
       "      <td>5.4</td>\n",
       "      <td>-184.0</td>\n",
       "      <td>NaN</td>\n",
       "      <td>2008-05-01</td>\n",
       "    </tr>\n",
       "  </tbody>\n",
       "</table>\n",
       "</div>"
      ],
      "text/plain": [
       "       Month  UnemploymentRate  JobsAdded       GDP   DateTime\n",
       "0 2008-01-01               5.0        8.0  14651.04 2008-01-01\n",
       "1 2008-02-01               4.9      -81.0       NaN 2008-02-01\n",
       "2 2008-03-01               5.1      -55.0       NaN 2008-03-01\n",
       "3 2008-04-01               5.0     -229.0  14805.61 2008-04-01\n",
       "4 2008-05-01               5.4     -184.0       NaN 2008-05-01"
      ]
     },
     "execution_count": 12,
     "metadata": {},
     "output_type": "execute_result"
    }
   ],
   "source": [
    "# add a new column with datetime\n",
    "df['DateTime'] = df['Month']\n",
    "df.head()"
   ]
  },
  {
   "cell_type": "code",
   "execution_count": 13,
   "metadata": {},
   "outputs": [
    {
     "data": {
      "text/html": [
       "<div>\n",
       "<style scoped>\n",
       "    .dataframe tbody tr th:only-of-type {\n",
       "        vertical-align: middle;\n",
       "    }\n",
       "\n",
       "    .dataframe tbody tr th {\n",
       "        vertical-align: top;\n",
       "    }\n",
       "\n",
       "    .dataframe thead th {\n",
       "        text-align: right;\n",
       "    }\n",
       "</style>\n",
       "<table border=\"1\" class=\"dataframe\">\n",
       "  <thead>\n",
       "    <tr style=\"text-align: right;\">\n",
       "      <th></th>\n",
       "      <th>Month</th>\n",
       "      <th>UnemploymentRate</th>\n",
       "      <th>JobsAdded</th>\n",
       "      <th>GDP</th>\n",
       "      <th>DateTime</th>\n",
       "    </tr>\n",
       "  </thead>\n",
       "  <tbody>\n",
       "    <tr>\n",
       "      <th>0</th>\n",
       "      <td>2008-01-01</td>\n",
       "      <td>5.0</td>\n",
       "      <td>8.0</td>\n",
       "      <td>14651.04</td>\n",
       "      <td>2008-01-01 20:44:00</td>\n",
       "    </tr>\n",
       "    <tr>\n",
       "      <th>1</th>\n",
       "      <td>2008-02-01</td>\n",
       "      <td>4.9</td>\n",
       "      <td>-81.0</td>\n",
       "      <td>NaN</td>\n",
       "      <td>2008-02-01 21:23:00</td>\n",
       "    </tr>\n",
       "    <tr>\n",
       "      <th>2</th>\n",
       "      <td>2008-03-01</td>\n",
       "      <td>5.1</td>\n",
       "      <td>-55.0</td>\n",
       "      <td>NaN</td>\n",
       "      <td>2008-03-01 00:17:00</td>\n",
       "    </tr>\n",
       "    <tr>\n",
       "      <th>3</th>\n",
       "      <td>2008-04-01</td>\n",
       "      <td>5.0</td>\n",
       "      <td>-229.0</td>\n",
       "      <td>14805.61</td>\n",
       "      <td>2008-04-01 00:14:00</td>\n",
       "    </tr>\n",
       "    <tr>\n",
       "      <th>4</th>\n",
       "      <td>2008-05-01</td>\n",
       "      <td>5.4</td>\n",
       "      <td>-184.0</td>\n",
       "      <td>NaN</td>\n",
       "      <td>2008-05-01 01:06:00</td>\n",
       "    </tr>\n",
       "  </tbody>\n",
       "</table>\n",
       "</div>"
      ],
      "text/plain": [
       "       Month  UnemploymentRate  JobsAdded       GDP            DateTime\n",
       "0 2008-01-01               5.0        8.0  14651.04 2008-01-01 20:44:00\n",
       "1 2008-02-01               4.9      -81.0       NaN 2008-02-01 21:23:00\n",
       "2 2008-03-01               5.1      -55.0       NaN 2008-03-01 00:17:00\n",
       "3 2008-04-01               5.0     -229.0  14805.61 2008-04-01 00:14:00\n",
       "4 2008-05-01               5.4     -184.0       NaN 2008-05-01 01:06:00"
      ]
     },
     "execution_count": 13,
     "metadata": {},
     "output_type": "execute_result"
    }
   ],
   "source": [
    "# Since we don't have times, let's assign random times for the given day\n",
    "for j in range(len(df)):\n",
    "    df.at[j, 'DateTime'] = df.at[j,'DateTime'] + datetime.timedelta(minutes=np.random.randint(24*60))\n",
    "df.head()"
   ]
  },
  {
   "cell_type": "code",
   "execution_count": 14,
   "metadata": {},
   "outputs": [
    {
     "name": "stdout",
     "output_type": "stream",
     "text": [
      "Tue Apr  1 00:14:00 2008\n",
      "April 01, 2008\n",
      "01/04/2008\n",
      "04/08\n",
      "Tuesday April 01, 2008\n",
      "04/01/2008 00:14:00\n",
      "12:14:00 AM\n"
     ]
    }
   ],
   "source": [
    "# Revist formatting\n",
    "date_dtg = df['DateTime'].iloc[3]\n",
    "fmts = [\"%c\",\"%B %d, %Y\", \"%d/%m/%Y\", \"%m/%y\", \"%A %B %d, %Y\", \"%m/%d/%Y %H:%M:%S\", \"%I:%M:%S %p\"]\n",
    "for fmt in fmts:\n",
    "    print (date_dtg.strftime(fmt))"
   ]
  },
  {
   "cell_type": "code",
   "execution_count": null,
   "metadata": {},
   "outputs": [],
   "source": []
  }
 ],
 "metadata": {
  "kernelspec": {
   "display_name": "Python 3",
   "language": "python",
   "name": "python3"
  },
  "language_info": {
   "codemirror_mode": {
    "name": "ipython",
    "version": 3
   },
   "file_extension": ".py",
   "mimetype": "text/x-python",
   "name": "python",
   "nbconvert_exporter": "python",
   "pygments_lexer": "ipython3",
   "version": "3.8.3"
  }
 },
 "nbformat": 4,
 "nbformat_minor": 2
}
