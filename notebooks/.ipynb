{
 "cells": [
  {
   "cell_type": "markdown",
   "metadata": {},
   "source": [
    "# Homework Assignment 3\n",
    "\n",
    "2020-09-15: Developed by Jingwie Liu based on a previous homework assignment.\n",
    "\n",
    "Datafile: \"14_Foreign_Exchange_Rates_PureNumeric.csv.csv\"\n",
    "\n",
    "For all problems that involve displaying numerical data, make sure to use an appropriate 'user friendly' data format.  This means use an appropriate number of decimal places, comma sparators on the thousands, etc.  This can easily be done using the string.format() function."
   ]
  },
  {
   "cell_type": "code",
   "execution_count": 1,
   "metadata": {},
   "outputs": [],
   "source": [
    "# Some setup ...\n",
    "# Import some tools\n",
    "import datetime\n",
    "import numpy as np\n",
    "import pandas as pd\n",
    "\n",
    "# function to show a NumyPy arrray with its attributes\n",
    "def show(the_array, show_data = 0):\n",
    "    print(\"  Dimension: {:}\".format(the_array.ndim))\n",
    "    print(\"       Size: {:}\".format(the_array.size))\n",
    "    print(\"      Shape: {:}\".format(the_array.shape))    \n",
    "    print(\"  Data Type: {:}\".format(the_array.dtype))    \n",
    "    print(\"  Item Size: {:}\".format(the_array.itemsize))\n",
    "    print(\"Data Buffer: {:}\".format(the_array.data))\n",
    "    if show_data:\n",
    "        print(the_array)"
   ]
  },
  {
   "cell_type": "markdown",
   "metadata": {},
   "source": [
    "## Read the Data and Create the NumPy Arrays"
   ]
  },
  {
   "cell_type": "code",
   "execution_count": 2,
   "metadata": {},
   "outputs": [
    {
     "name": "stdout",
     "output_type": "stream",
     "text": [
      "C:\\Users\\kayla\\OneDrive - Auburn University\\INSY6506\\Github\\ToolsForDataAnalyticsAndModeling\\notebooks\n"
     ]
    }
   ],
   "source": [
    "import os\n",
    "print(os.getcwd())"
   ]
  },
  {
   "cell_type": "code",
   "execution_count": 14,
   "metadata": {},
   "outputs": [
    {
     "data": {
      "text/html": [
       "<div>\n",
       "<style scoped>\n",
       "    .dataframe tbody tr th:only-of-type {\n",
       "        vertical-align: middle;\n",
       "    }\n",
       "\n",
       "    .dataframe tbody tr th {\n",
       "        vertical-align: top;\n",
       "    }\n",
       "\n",
       "    .dataframe thead th {\n",
       "        text-align: right;\n",
       "    }\n",
       "</style>\n",
       "<table border=\"1\" class=\"dataframe\">\n",
       "  <thead>\n",
       "    <tr style=\"text-align: right;\">\n",
       "      <th></th>\n",
       "      <th>Index</th>\n",
       "      <th>Time Serie</th>\n",
       "      <th>AUSTRALIA - AUSTRALIAN DOLLAR/US$</th>\n",
       "      <th>EURO AREA - EURO/US$</th>\n",
       "      <th>NEW ZEALAND - NEW ZELAND DOLLAR/US$</th>\n",
       "      <th>UNITED KINGDOM - UNITED KINGDOM POUND/US$</th>\n",
       "      <th>BRAZIL - REAL/US$</th>\n",
       "      <th>CANADA - CANADIAN DOLLAR/US$</th>\n",
       "      <th>CHINA - YUAN/US$</th>\n",
       "      <th>HONG KONG - HONG KONG DOLLAR/US$</th>\n",
       "      <th>...</th>\n",
       "      <th>SINGAPORE - SINGAPORE DOLLAR/US$</th>\n",
       "      <th>DENMARK - DANISH KRONE/US$</th>\n",
       "      <th>JAPAN - YEN/US$</th>\n",
       "      <th>MALAYSIA - RINGGIT/US$</th>\n",
       "      <th>NORWAY - NORWEGIAN KRONE/US$</th>\n",
       "      <th>SWEDEN - KRONA/US$</th>\n",
       "      <th>SRI LANKA - SRI LANKAN RUPEE/US$</th>\n",
       "      <th>SWITZERLAND - FRANC/US$</th>\n",
       "      <th>TAIWAN - NEW TAIWAN DOLLAR/US$</th>\n",
       "      <th>THAILAND - BAHT/US$</th>\n",
       "    </tr>\n",
       "  </thead>\n",
       "  <tbody>\n",
       "    <tr>\n",
       "      <th>0</th>\n",
       "      <td>0</td>\n",
       "      <td>1/3/2000</td>\n",
       "      <td>1.5172</td>\n",
       "      <td>0.9847</td>\n",
       "      <td>1.9033</td>\n",
       "      <td>0.6146</td>\n",
       "      <td>1.8050</td>\n",
       "      <td>1.4465</td>\n",
       "      <td>8.2798</td>\n",
       "      <td>7.7765</td>\n",
       "      <td>...</td>\n",
       "      <td>1.6563</td>\n",
       "      <td>7.3290</td>\n",
       "      <td>101.70</td>\n",
       "      <td>3.8</td>\n",
       "      <td>7.964</td>\n",
       "      <td>8.4430</td>\n",
       "      <td>72.30</td>\n",
       "      <td>1.5808</td>\n",
       "      <td>31.38</td>\n",
       "      <td>36.97</td>\n",
       "    </tr>\n",
       "    <tr>\n",
       "      <th>1</th>\n",
       "      <td>1</td>\n",
       "      <td>1/4/2000</td>\n",
       "      <td>1.5239</td>\n",
       "      <td>0.9700</td>\n",
       "      <td>1.9238</td>\n",
       "      <td>0.6109</td>\n",
       "      <td>1.8405</td>\n",
       "      <td>1.4518</td>\n",
       "      <td>8.2799</td>\n",
       "      <td>7.7775</td>\n",
       "      <td>...</td>\n",
       "      <td>1.6535</td>\n",
       "      <td>7.2180</td>\n",
       "      <td>103.09</td>\n",
       "      <td>3.8</td>\n",
       "      <td>7.934</td>\n",
       "      <td>8.3600</td>\n",
       "      <td>72.65</td>\n",
       "      <td>1.5565</td>\n",
       "      <td>30.6</td>\n",
       "      <td>37.13</td>\n",
       "    </tr>\n",
       "    <tr>\n",
       "      <th>2</th>\n",
       "      <td>2</td>\n",
       "      <td>1/5/2000</td>\n",
       "      <td>1.5267</td>\n",
       "      <td>0.9676</td>\n",
       "      <td>1.9339</td>\n",
       "      <td>0.6092</td>\n",
       "      <td>1.8560</td>\n",
       "      <td>1.4518</td>\n",
       "      <td>8.2798</td>\n",
       "      <td>7.7780</td>\n",
       "      <td>...</td>\n",
       "      <td>1.6560</td>\n",
       "      <td>7.2080</td>\n",
       "      <td>103.77</td>\n",
       "      <td>3.8</td>\n",
       "      <td>7.935</td>\n",
       "      <td>8.3530</td>\n",
       "      <td>72.95</td>\n",
       "      <td>1.5526</td>\n",
       "      <td>30.8</td>\n",
       "      <td>37.10</td>\n",
       "    </tr>\n",
       "    <tr>\n",
       "      <th>3</th>\n",
       "      <td>3</td>\n",
       "      <td>1/6/2000</td>\n",
       "      <td>1.5291</td>\n",
       "      <td>0.9686</td>\n",
       "      <td>1.9436</td>\n",
       "      <td>0.6070</td>\n",
       "      <td>1.8400</td>\n",
       "      <td>1.4571</td>\n",
       "      <td>8.2797</td>\n",
       "      <td>7.7785</td>\n",
       "      <td>...</td>\n",
       "      <td>1.6655</td>\n",
       "      <td>7.2125</td>\n",
       "      <td>105.19</td>\n",
       "      <td>3.8</td>\n",
       "      <td>7.940</td>\n",
       "      <td>8.3675</td>\n",
       "      <td>72.95</td>\n",
       "      <td>1.5540</td>\n",
       "      <td>31.75</td>\n",
       "      <td>37.62</td>\n",
       "    </tr>\n",
       "    <tr>\n",
       "      <th>4</th>\n",
       "      <td>4</td>\n",
       "      <td>1/7/2000</td>\n",
       "      <td>1.5272</td>\n",
       "      <td>0.9714</td>\n",
       "      <td>1.9380</td>\n",
       "      <td>0.6104</td>\n",
       "      <td>1.8310</td>\n",
       "      <td>1.4505</td>\n",
       "      <td>8.2794</td>\n",
       "      <td>7.7783</td>\n",
       "      <td>...</td>\n",
       "      <td>1.6625</td>\n",
       "      <td>7.2285</td>\n",
       "      <td>105.17</td>\n",
       "      <td>3.8</td>\n",
       "      <td>7.966</td>\n",
       "      <td>8.4150</td>\n",
       "      <td>73.15</td>\n",
       "      <td>1.5623</td>\n",
       "      <td>30.85</td>\n",
       "      <td>37.30</td>\n",
       "    </tr>\n",
       "  </tbody>\n",
       "</table>\n",
       "<p>5 rows × 24 columns</p>\n",
       "</div>"
      ],
      "text/plain": [
       "   Index Time Serie  AUSTRALIA - AUSTRALIAN DOLLAR/US$  EURO AREA - EURO/US$  \\\n",
       "0      0   1/3/2000                             1.5172                0.9847   \n",
       "1      1   1/4/2000                             1.5239                0.9700   \n",
       "2      2   1/5/2000                             1.5267                0.9676   \n",
       "3      3   1/6/2000                             1.5291                0.9686   \n",
       "4      4   1/7/2000                             1.5272                0.9714   \n",
       "\n",
       "   NEW ZEALAND - NEW ZELAND DOLLAR/US$  \\\n",
       "0                               1.9033   \n",
       "1                               1.9238   \n",
       "2                               1.9339   \n",
       "3                               1.9436   \n",
       "4                               1.9380   \n",
       "\n",
       "   UNITED KINGDOM - UNITED KINGDOM POUND/US$  BRAZIL - REAL/US$  \\\n",
       "0                                     0.6146             1.8050   \n",
       "1                                     0.6109             1.8405   \n",
       "2                                     0.6092             1.8560   \n",
       "3                                     0.6070             1.8400   \n",
       "4                                     0.6104             1.8310   \n",
       "\n",
       "   CANADA - CANADIAN DOLLAR/US$  CHINA - YUAN/US$  \\\n",
       "0                        1.4465            8.2798   \n",
       "1                        1.4518            8.2799   \n",
       "2                        1.4518            8.2798   \n",
       "3                        1.4571            8.2797   \n",
       "4                        1.4505            8.2794   \n",
       "\n",
       "   HONG KONG - HONG KONG DOLLAR/US$  ... SINGAPORE - SINGAPORE DOLLAR/US$  \\\n",
       "0                            7.7765  ...                           1.6563   \n",
       "1                            7.7775  ...                           1.6535   \n",
       "2                            7.7780  ...                           1.6560   \n",
       "3                            7.7785  ...                           1.6655   \n",
       "4                            7.7783  ...                           1.6625   \n",
       "\n",
       "   DENMARK - DANISH KRONE/US$  JAPAN - YEN/US$  MALAYSIA - RINGGIT/US$  \\\n",
       "0                      7.3290           101.70                     3.8   \n",
       "1                      7.2180           103.09                     3.8   \n",
       "2                      7.2080           103.77                     3.8   \n",
       "3                      7.2125           105.19                     3.8   \n",
       "4                      7.2285           105.17                     3.8   \n",
       "\n",
       "   NORWAY - NORWEGIAN KRONE/US$  SWEDEN - KRONA/US$  \\\n",
       "0                         7.964              8.4430   \n",
       "1                         7.934              8.3600   \n",
       "2                         7.935              8.3530   \n",
       "3                         7.940              8.3675   \n",
       "4                         7.966              8.4150   \n",
       "\n",
       "   SRI LANKA - SRI LANKAN RUPEE/US$  SWITZERLAND - FRANC/US$  \\\n",
       "0                             72.30                   1.5808   \n",
       "1                             72.65                   1.5565   \n",
       "2                             72.95                   1.5526   \n",
       "3                             72.95                   1.5540   \n",
       "4                             73.15                   1.5623   \n",
       "\n",
       "   TAIWAN - NEW TAIWAN DOLLAR/US$  THAILAND - BAHT/US$  \n",
       "0                           31.38                36.97  \n",
       "1                            30.6                37.13  \n",
       "2                            30.8                37.10  \n",
       "3                           31.75                37.62  \n",
       "4                           30.85                37.30  \n",
       "\n",
       "[5 rows x 24 columns]"
      ]
     },
     "execution_count": 14,
     "metadata": {},
     "output_type": "execute_result"
    }
   ],
   "source": [
    "# Read the data into a Pandas dataframe and show the first 5 rows (just to \"see\" the data)\n",
    "df = pd.read_csv(\"../data/14_Foreign_Exchange_Rates_PureNumeric.csv\")\n",
    "df.head()"
   ]
  },
  {
   "cell_type": "code",
   "execution_count": 4,
   "metadata": {},
   "outputs": [
    {
     "name": "stdout",
     "output_type": "stream",
     "text": [
      "Data Type: <class 'numpy.ndarray'>\n",
      "  Dimension: 1\n",
      "       Size: 5019\n",
      "      Shape: (5019,)\n",
      "  Data Type: float64\n",
      "  Item Size: 8\n",
      "Data Buffer: <memory at 0x0000025EB0BE8A00>\n"
     ]
    }
   ],
   "source": [
    "# Grab the 'BRAZIL - REAL/US$'values as a NumPy array\n",
    "brazil = df['BRAZIL - REAL/US$'].values\n",
    "print(\"Data Type: {:}\".format(type(brazil)))\n",
    "show(brazil)"
   ]
  },
  {
   "cell_type": "markdown",
   "metadata": {},
   "source": [
    "**Problem 1**: In the next cell or cells, use the NumPy array functions to compute the mean, standard deviation, min, and max values(descriptive statistics) of BRAZIL - REAL/US$ using the **brazil** created above. Make sure that you show the computed values and remember to use appropriate 'user friendly' formats for displaying the numbers."
   ]
  },
  {
   "cell_type": "code",
   "execution_count": 5,
   "metadata": {
    "scrolled": true
   },
   "outputs": [
    {
     "name": "stdout",
     "output_type": "stream",
     "text": [
      "The mean exchange rate is 2.55 Real/US$\n",
      "The standard deviation is 0.72 Real/US$\n",
      "The minimum exchange rate is 1.54 Real/US$\n",
      "The maximum exchange rate is 4.26 Real/US$\n"
     ]
    }
   ],
   "source": [
    "# Start your solution here ... add additional cells as necessary\n",
    "#mean value of BRAZIL - REAL/US$\n",
    "BRAZILmean = brazil[:].mean()\n",
    "#standard deviation value of BRAZIL - REAL/US$\n",
    "BRAZILstd = brazil[:].std()\n",
    "#minimum value of BRAZIL - REAL/US$\n",
    "BRAZILmin= brazil[:].min()\n",
    "#maximum value of BRAZIL - REAL/US$\n",
    "BRAZILmax= brazil[:].max()\n",
    "\n",
    "print(str.format('The mean exchange rate is {:.2f} Real/US$', BRAZILmean))\n",
    "print(str.format('The standard deviation is {:.2f} Real/US$', BRAZILstd))\n",
    "print(str.format('The minimum exchange rate is {:.2f} Real/US$', BRAZILmin))\n",
    "print(str.format('The maximum exchange rate is {:.2f} Real/US$', BRAZILmax))"
   ]
  },
  {
   "cell_type": "code",
   "execution_count": 6,
   "metadata": {},
   "outputs": [
    {
     "name": "stdout",
     "output_type": "stream",
     "text": [
      "  Dimension: 2\n",
      "       Size: 15057\n",
      "      Shape: (5019, 3)\n",
      "  Data Type: float64\n",
      "  Item Size: 8\n",
      "Data Buffer: <memory at 0x0000025EB0C3C6C0>\n"
     ]
    }
   ],
   "source": [
    "# Grab some exchange values from asia contries: MALAYSIA,CHINA, and THAILAND , slice as a Pandas dataframe and then store\n",
    "# the values as a NumPy array\n",
    "asiadf = df[['MALAYSIA - RINGGIT/US$', 'CHINA - YUAN/US$', 'THAILAND - BAHT/US$']]\n",
    "asiaarray = asiadf.values\n",
    "show(asiaarray)"
   ]
  },
  {
   "cell_type": "markdown",
   "metadata": {},
   "source": [
    "**Problem 2**: In the next cell or cells, use the NumPy array functions to compute the mean, standard deviation, min, and max values (descriptive statistics) of the exchange rate of the above three Asian countries using the **asiaarray** array created above and then display the computed values. Note that we have three different exchange rates for these three countries - MALAYSIA,CHINA,and THAILAND - so you need to compute the descriptive statistics for all three (hint -- use the axis parameter in the function calls)."
   ]
  },
  {
   "cell_type": "code",
   "execution_count": 33,
   "metadata": {},
   "outputs": [
    {
     "name": "stdout",
     "output_type": "stream",
     "text": [
      "The mean exchange rates are 3.65 Ringgit/US$ (Malaysia); 7.20 Yuan/US$ (China); and 35.52 BAHT/US$ (Thailand)\n",
      "The standard deviation of rates are 0.38 Ringgit/US$ (Malaysia); 0.82 Yuan/US$ (China); and 4.56 BAHT/US$ (Thailand)\n",
      "The minimum exchange rates are 2.94 Ringgit/US$ (Malaysia); 6.04 Yuan/US$ (China); and 28.60 BAHT/US$ (Thailand)\n",
      "The maximum exchange rates are 4.50 Ringgit/US$ (Malaysia); 8.28 Yuan/US$ (China); and 45.82 BAHT/US$ (Thailand)\n"
     ]
    }
   ],
   "source": [
    "# Start your solution here ... add additional cells as necessary\n",
    "#MEAN VALUES\n",
    "#mean value of MALAYSIA - RINGGIT/US$\n",
    "MALAYSIAmean = asiaarray[:,0].mean()\n",
    "#mean value of CHINA - YUAN/US$\n",
    "CHINAmean = asiaarray[:,1].mean()\n",
    "#mean value of THAILAND - BAHT/US$\n",
    "THAILANDmean = asiaarray[:,2].mean()\n",
    "\n",
    "#STANDARD DEVIATION VALUES\n",
    "#standard deviation of MALAYSIA - RINGGIT/US$\n",
    "MALAYSIAstd = asiaarray[:,0].std()\n",
    "#standard deviation of CHINA - YUAN/US$\n",
    "CHINAstd = asiaarray[:,1].std()\n",
    "#standard deviation of THAILAND - BAHT/US$\n",
    "THAILANDstd = asiaarray[:,2].std()\n",
    "\n",
    "#MINIMUM VALUES\n",
    "#minimum value of MALAYSIA - RINGGIT/US$\n",
    "MALAYSIAmin = asiaarray[:,0].min()\n",
    "#minimum value of CHINA - YUAN/US$\n",
    "CHINAmin = asiaarray[:,1].min()\n",
    "#minimum value of THAILAND - BAHT/US$\n",
    "THAILANDmin = asiaarray[:,2].min()\n",
    "\n",
    "#MAXIMUM VALUES\n",
    "#maximum value of MALAYSIA - RINGGIT/US$\n",
    "MALAYSIAmax = asiaarray[:,0].max()\n",
    "#maximum value of CHINA - YUAN/US$\n",
    "CHINAmax = asiaarray[:,1].max()\n",
    "#maximum value of THAILAND - BAHT/US$\n",
    "THAILANDmax = asiaarray[:,2].max()\n",
    "\n",
    "print(str.format('The mean exchange rates are {:.2f} Ringgit/US$ (Malaysia); {:.2f} Yuan/US$ (China); and {:.2f} BAHT/US$ (Thailand)', MALAYSIAmean, CHINAmean, THAILANDmean))\n",
    "print(str.format('The standard deviation of rates are {:.2f} Ringgit/US$ (Malaysia); {:.2f} Yuan/US$ (China); and {:.2f} BAHT/US$ (Thailand)', MALAYSIAstd, CHINAstd, THAILANDstd))\n",
    "print(str.format('The minimum exchange rates are {:.2f} Ringgit/US$ (Malaysia); {:.2f} Yuan/US$ (China); and {:.2f} BAHT/US$ (Thailand)', MALAYSIAmin, CHINAmin, THAILANDmin))\n",
    "print(str.format('The maximum exchange rates are {:.2f} Ringgit/US$ (Malaysia); {:.2f} Yuan/US$ (China); and {:.2f} BAHT/US$ (Thailand)', MALAYSIAmax, CHINAmax, THAILANDmax))"
   ]
  },
  {
   "cell_type": "markdown",
   "metadata": {},
   "source": [
    "**Problem 3**: Suppose you want to take a vacation (a week) this Thanksgiving and you plan to choose one as your destination from the above three countries. After some investigation, you find the daily expense in each country is: \n",
    "\n",
    "1.  MALAYSIA - 300 RINGGIT/Day;\n",
    "2.  CHINA - 500 Yuan/Day; \n",
    "3.  THAILAND - 2400 BAHT/Day. \n",
    "\n",
    "You decide to choose the destination country who has the lowest cost (in US dollars). You can use mean, max, or min to help you make the final decision. So, answer the following question in the next cell or cells: \n",
    "\n",
    "1.  What country is your choice?\n",
    "2.  What is the total exoected cost (in US dollars)? \n",
    "3.  Discuss briefly how you made your decision (use a *Markdown* cell for this discussion)."
   ]
  },
  {
   "cell_type": "code",
   "execution_count": 8,
   "metadata": {},
   "outputs": [
    {
     "name": "stdout",
     "output_type": "stream",
     "text": [
      "The total estimated cost for travelling to Malaysia is 575.19 USD\n",
      "The total estimated cost for travelling to China is 486.07 USD\n",
      "The total estimated cost for travelling to Thailand is 472.97 USD\n",
      "At a total expected cost of $472.97 USD for the entire 7 days, Thailand would be the best destination to vacation\n"
     ]
    }
   ],
   "source": [
    "# Start your solution here ... add additional cells as necessary\n",
    "#Estimated cost in Malaysia for seven days\n",
    "MALAYSIAcost = 300/MALAYSIAmean*7\n",
    "#Estimated cost in China for seven days\n",
    "CHINAcost = 500/CHINAmean*7\n",
    "#Estimated cost in Thailand for seven days\n",
    "THAILANDcost = 2400/THAILANDmean*7\n",
    "\n",
    "print('The total estimated cost for travelling to Malaysia is {:.2f} USD'.format(MALAYSIAcost))\n",
    "print('The total estimated cost for travelling to China is {:.2f} USD'.format(CHINAcost))\n",
    "print('The total estimated cost for travelling to Thailand is {:.2f} USD'.format(THAILANDcost))\n",
    "\n",
    "#Question 1 and 2\n",
    "print('At a total expected cost of $472.97 USD for the entire 7 days, Thailand would be the best destination to vacation')"
   ]
  },
  {
   "cell_type": "markdown",
   "metadata": {},
   "source": [
    "**Problem 3 Question 3**\n",
    "Given the three descriptive statistics that were calculated for all three countries, the mean exchange rate is the most accurate (and stable) predictor of estimated cost. While calculating the expected cost with the minimum or maximum exchange rate value can provide a 'best' or 'worst' case scenario, the mean exchange rate is the average rate over a period of time."
   ]
  },
  {
   "cell_type": "code",
   "execution_count": 9,
   "metadata": {
    "scrolled": false
   },
   "outputs": [
    {
     "data": {
      "text/plain": [
       "0    8.4430\n",
       "1    8.3600\n",
       "2    8.3530\n",
       "3    8.3675\n",
       "4    8.4150\n",
       "Name: SWEDEN - KRONA/US$, dtype: float64"
      ]
     },
     "execution_count": 9,
     "metadata": {},
     "output_type": "execute_result"
    }
   ],
   "source": [
    "# Create an array for SWEDEN - KRONA/US$ \n",
    "sweden = df['SWEDEN - KRONA/US$']\n",
    "sweden.head()"
   ]
  },
  {
   "cell_type": "markdown",
   "metadata": {},
   "source": [
    "**Problem 4**: In the next cell or cells, count the number of days where the exchange rate for Sweden was greater than 9."
   ]
  },
  {
   "cell_type": "code",
   "execution_count": 10,
   "metadata": {},
   "outputs": [
    {
     "name": "stdout",
     "output_type": "stream",
     "text": [
      "There are a total of 997 days where the exchange rate of Krona/US$ is greater than 9\n"
     ]
    }
   ],
   "source": [
    "#store sweden values as numpy array\n",
    "swedenarray=sweden.values\n",
    "#define exchangeday9 as the sum of swedenarray values greater than 9\n",
    "exchangeday9=(swedenarray[:]>9).sum()\n",
    "print('There are a total of {:} days where the exchange rate of Krona/US$ is greater than 9'.format(exchangeday9))"
   ]
  },
  {
   "cell_type": "markdown",
   "metadata": {},
   "source": [
    "**Problem 5**: In the next cell or cells, count the number of days where the exchange rate for Sweden was below than 8."
   ]
  },
  {
   "cell_type": "code",
   "execution_count": 11,
   "metadata": {},
   "outputs": [
    {
     "name": "stdout",
     "output_type": "stream",
     "text": [
      "There are a total of 2789 days where the exchange rate of Krona/US$ is less than 8\n"
     ]
    }
   ],
   "source": [
    "# Start your solution here ... add additional cells as necessary\n",
    "#define exchangeday8 as the sum of swedenarray values less than 8\n",
    "exchangeday8=(swedenarray[:]<8).sum()\n",
    "print('There are a total of {:} days where the exchange rate of Krona/US$ is less than 8'.format(exchangeday8))"
   ]
  },
  {
   "cell_type": "markdown",
   "metadata": {},
   "source": [
    "**Problem 6**: In the next cell or cells, create masks for the 'Time Series' that \"before year 2008\" and \"after year 2008\"(include year 2008) and compute the mean, std. dev., min, and max values of of the exchange rate for Sweden that **a)** before year 2008; and **b)** after year 2008.<br>\n",
    "**Hint**: You can use pd.to_datetime() to convert the string in 'Time Series' to a datetime which is comparable "
   ]
  },
  {
   "cell_type": "code",
   "execution_count": 66,
   "metadata": {
    "scrolled": false
   },
   "outputs": [
    {
     "name": "stdout",
     "output_type": "stream",
     "text": [
      "The 0th row is for date <DatetimeArray>\n",
      "['2000-01-03 00:00:00']\n",
      "Length: 1, dtype: datetime64[ns]'\n",
      "The 2012th row is for date <DatetimeArray>\n",
      "['2007-12-31 00:00:00']\n",
      "Length: 1, dtype: datetime64[ns]'\n",
      "The 5018th row is for date <DatetimeArray>\n",
      "['2019-12-31 00:00:00']\n",
      "Length: 1, dtype: datetime64[ns]'\n",
      "Group A is between rows 0 and 2012. Group B is between rows 2013 and 5018\n"
     ]
    }
   ],
   "source": [
    "# Start your solution here ... add additional cells as necessary\n",
    "#convert 'Time Serie' string values to datetime\n",
    "dates = pd.to_datetime(df['Time Serie'])\n",
    "#arrange dates in array\n",
    "date = dates.array\n",
    "\n",
    "#find rows for a) before year 2008\n",
    "FirstDate = '2000-01-03'\n",
    "MiddleDate = '2007-12-31'\n",
    "LastDate = '2019-12-31'\n",
    "FirstIndex = np.where(date == FirstDate)\n",
    "MiddleIndex = np.where(date == MiddleDate)\n",
    "LastIndex = np.where(date == LastDate)\n",
    "\n",
    "#Print rows for before 2008 and after 2008\n",
    "print(\"The {}th row is for date {}'\".format(FirstIndex[0][0],date[FirstIndex]))\n",
    "print(\"The {}th row is for date {}'\".format(MiddleIndex[0][0],date[MiddleIndex]))\n",
    "print(\"The {}th row is for date {}'\".format(LastIndex[0][0],date[LastIndex]))\n",
    "print(\"Group A is between rows 0 and 2012. Group B is between rows 2013 and 5018\")"
   ]
  },
  {
   "cell_type": "code",
   "execution_count": 76,
   "metadata": {},
   "outputs": [
    {
     "name": "stdout",
     "output_type": "stream",
     "text": [
      "Before the year 2008, the mean exchange rate is 8.28 Krona/US$\n",
      "Before the year 2008, the standard deviation is 1.28 Krona/US$\n",
      "Before the year 2008, the minimum exchange rate is 6.24 Krona/US$\n",
      "Before the year 2008, the maximum exchange rate is 11.03 Krona/US$\n",
      "\n",
      "After the year 2008, the mean exchange rate is 7.64 Krona/US$\n",
      "After the year 2008, the standard deviation is 1.07 Krona/US$\n",
      "After the year 2008, the minimum exchange rate is 5.83 Krona/US$\n",
      "After the year 2008, the maximum exchange rate is 9.96 Krona/US$\n"
     ]
    }
   ],
   "source": [
    "#determine descriptive statistics\n",
    "#Group A - Before year 2008\n",
    "SwedenMeanA = sweden[FirstIndex[0][0]:MiddleIndex[0][0]+1].mean()\n",
    "SwedenStdA = sweden[FirstIndex[0][0]:MiddleIndex[0][0]+1].std()\n",
    "SwedenMinA = sweden[FirstIndex[0][0]:MiddleIndex[0][0]+1].min()\n",
    "SwedenMaxA = sweden[FirstIndex[0][0]:MiddleIndex[0][0]+1].max()\n",
    "#Group B - After year 2008\n",
    "SwedenMeanB = sweden[MiddleIndex[0][0]:LastIndex[0][0]+1].mean()\n",
    "SwedenStdB = sweden[MiddleIndex[0][0]:LastIndex[0][0]+1].std()\n",
    "SwedenMinB = sweden[MiddleIndex[0][0]:LastIndex[0][0]+1].min()\n",
    "SwedenMaxB = sweden[MiddleIndex[0][0]:LastIndex[0][0]+1].max()\n",
    "print(str.format('Before the year 2008, the mean exchange rate is {:.2f} Krona/US$', SwedenMeanA))\n",
    "print(str.format('Before the year 2008, the standard deviation is {:.2f} Krona/US$', SwedenStdA))\n",
    "print(str.format('Before the year 2008, the minimum exchange rate is {:.2f} Krona/US$', SwedenMinA))\n",
    "print(str.format('Before the year 2008, the maximum exchange rate is {:.2f} Krona/US$', SwedenMaxA))\n",
    "print()\n",
    "print(str.format('After the year 2008, the mean exchange rate is {:.2f} Krona/US$', SwedenMeanB))\n",
    "print(str.format('After the year 2008, the standard deviation is {:.2f} Krona/US$', SwedenStdB))\n",
    "print(str.format('After the year 2008, the minimum exchange rate is {:.2f} Krona/US$', SwedenMinB))\n",
    "print(str.format('After the year 2008, the maximum exchange rate is {:.2f} Krona/US$', SwedenMaxB))"
   ]
  }
 ],
 "metadata": {
  "kernelspec": {
   "display_name": "Python 3",
   "language": "python",
   "name": "python3"
  },
  "language_info": {
   "codemirror_mode": {
    "name": "ipython",
    "version": 3
   },
   "file_extension": ".py",
   "mimetype": "text/x-python",
   "name": "python",
   "nbconvert_exporter": "python",
   "pygments_lexer": "ipython3",
   "version": "3.8.3"
  }
 },
 "nbformat": 4,
 "nbformat_minor": 4
}
