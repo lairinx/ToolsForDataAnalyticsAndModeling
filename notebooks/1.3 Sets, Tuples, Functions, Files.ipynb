{
 "cells": [
  {
   "cell_type": "markdown",
   "metadata": {},
   "source": [
    "# Sets, Tuples, Functions, and Files\n",
    "\n",
    "## Sets\n",
    "A set is an \"unordered collection of unique and immutable eobjects that supports operations corresponding to mathematical set theory.\"  I don't know anything about mathematical set theory, so I'll show you how I use sets in Python.  Perhaps one of you mathmaticians can explain set theory?"
   ]
  },
  {
   "cell_type": "code",
   "execution_count": null,
   "metadata": {},
   "outputs": [],
   "source": [
    "# Note that a set looks like a dictionary with only keys (no values)\n",
    "x = {1, 2, 3, 4}\n",
    "x"
   ]
  },
  {
   "cell_type": "code",
   "execution_count": null,
   "metadata": {},
   "outputs": [],
   "source": [
    "x = {2, 2, 1, 1, 5, 4, 5, 4, 1, 5}\n",
    "x"
   ]
  },
  {
   "cell_type": "code",
   "execution_count": null,
   "metadata": {},
   "outputs": [],
   "source": [
    "# Useful for removing duplicates from a list\n",
    "a = [1, 1, 2, 2, 3, 3, 4, 4, 5, 5]\n",
    "a"
   ]
  },
  {
   "cell_type": "code",
   "execution_count": null,
   "metadata": {},
   "outputs": [],
   "source": [
    "a = list(set(a))\n",
    "a"
   ]
  },
  {
   "cell_type": "code",
   "execution_count": null,
   "metadata": {},
   "outputs": [],
   "source": [
    "b = [\"a\", \"one\", \"a\", \"one\", \"b\"]\n",
    "b"
   ]
  },
  {
   "cell_type": "code",
   "execution_count": null,
   "metadata": {},
   "outputs": [],
   "source": [
    "b = list(set(b))\n",
    "b"
   ]
  },
  {
   "cell_type": "code",
   "execution_count": null,
   "metadata": {},
   "outputs": [],
   "source": [
    "# Comprehensions with sets\n",
    "{x**2 for x in [1,1,2,2,3,3,4,4,5,5]}"
   ]
  },
  {
   "cell_type": "code",
   "execution_count": null,
   "metadata": {},
   "outputs": [],
   "source": [
    "# compare to this version\n",
    "[x**2 for x in {1,1,2,2,3,3,4,5,5}]"
   ]
  },
  {
   "cell_type": "code",
   "execution_count": null,
   "metadata": {},
   "outputs": [],
   "source": [
    "# compare the same comprehension with a list rather than a set\n",
    "[x**2 for x in [1,1,2,2,3,3,4,4,5,5]]"
   ]
  },
  {
   "cell_type": "code",
   "execution_count": null,
   "metadata": {},
   "outputs": [],
   "source": [
    "# Creating a list of the unique words in a string\n",
    "s = \"This one sentence has multiple instances of one and has multiple instances of other words also.\"\n",
    "s"
   ]
  },
  {
   "cell_type": "code",
   "execution_count": null,
   "metadata": {},
   "outputs": [],
   "source": [
    "# All the words\n",
    "s.replace('.','').split()"
   ]
  },
  {
   "cell_type": "code",
   "execution_count": null,
   "metadata": {},
   "outputs": [],
   "source": [
    "# Unique words\n",
    "list(set(s.replace('.','').split()))"
   ]
  },
  {
   "cell_type": "markdown",
   "metadata": {},
   "source": [
    "## Tuples\n",
    "A tuple is like a list, except that it's immutable.  We've seen tuples as the return value in interactive Python."
   ]
  },
  {
   "cell_type": "code",
   "execution_count": null,
   "metadata": {},
   "outputs": [],
   "source": [
    "# create a tuple, t\n",
    "t = (1, 2, 3, 'dog')\n",
    "# create an anonyumous tuple containing 3 tuples and an integers\n",
    "t, t[0], t[:3], t[2:]"
   ]
  },
  {
   "cell_type": "code",
   "execution_count": null,
   "metadata": {},
   "outputs": [],
   "source": [
    "# Unlike lists, tuples are immutable\n",
    "t[3] = 'cat'\n",
    "# This can make them usefule if you want to guarantee that the values can't be changed"
   ]
  },
  {
   "cell_type": "code",
   "execution_count": null,
   "metadata": {},
   "outputs": [],
   "source": [
    "# Same thing using a list\n",
    "t = [1, 2, 3, 'dog']\n",
    "t[3] = 'cat'\n",
    "t"
   ]
  },
  {
   "cell_type": "markdown",
   "metadata": {},
   "source": [
    "## Functions\n",
    "\n",
    "A funcation accepts an optional list of parameters, does something, and retuns an optional list of objects."
   ]
  },
  {
   "cell_type": "code",
   "execution_count": 1,
   "metadata": {},
   "outputs": [],
   "source": [
    "#  Define a couple of functions -- just for kicks (demonstration, that is) -- would use NumPy for real stuff. \n",
    "#\n",
    "# mean() - compute the sample mean.\n",
    "#     Parameters:\n",
    "#         N a list of numbers\n",
    "#\n",
    "def mean( N ):\n",
    "    # running total\n",
    "    Total = 0\n",
    "    # count of the number of items\n",
    "    Count = len(N)\n",
    "    # for each item in the list\n",
    "    for Num in N:\n",
    "        # increment the total\n",
    "        Total = Total + Num\n",
    "    # compute the sample average\n",
    "    average = float(Total)/Count if Count > 0 else 0\n",
    "    return(average)\n",
    "\n",
    "#\n",
    "# std_dev() - compute the sample standard deviation.\n",
    "#     Parameters:\n",
    "#         N a list of numbers\n",
    "#\n",
    "def std_dev( N ):\n",
    "    Count = len(N)\n",
    "    # Compute the average\n",
    "    average = mean(N)\n",
    "    if Count > 1:\n",
    "        # Compute the std dev.\n",
    "        Total = 0\n",
    "        for Num in N:\n",
    "            Total = Total + (float(Num) - average)**2\n",
    "        std_dev = ((float(1)/(Count-1))*Total)**(float(1)/2)\n",
    "    else:\n",
    "        std_dev = 0\n",
    "    return(std_dev)"
   ]
  },
  {
   "cell_type": "code",
   "execution_count": 2,
   "metadata": {},
   "outputs": [
    {
     "name": "stdout",
     "output_type": "stream",
     "text": [
      "The average is 3.50 and the standard deviation is 1.87\n",
      "NumPy: The average is 3.50 and the standard deviation is 1.71\n"
     ]
    }
   ],
   "source": [
    "l = [1, 2, 3, 4, 5, 6]\n",
    "print(\"The average is {:.2f} and the standard deviation is {:.2f}\".format(mean(l), std_dev(l)))\n",
    "\n",
    "# NumPy versions\n",
    "import numpy as np\n",
    "print(\"NumPy: The average is {:.2f} and the standard deviation is {:.2f}\".format(np.mean(l), np.std(l)))\n",
    "# Oops -- why aren't the std dev the same?  Consider using the Help (np.std?)"
   ]
  },
  {
   "cell_type": "code",
   "execution_count": 3,
   "metadata": {},
   "outputs": [],
   "source": [
    "np.std?"
   ]
  },
  {
   "cell_type": "code",
   "execution_count": 4,
   "metadata": {},
   "outputs": [
    {
     "data": {
      "text/plain": [
       "1.8708286933869707"
      ]
     },
     "execution_count": 4,
     "metadata": {},
     "output_type": "execute_result"
    }
   ],
   "source": [
    "# Need to specify the delta dof parameter to be 1 if you want a sample\n",
    "# standard deviation rather than a population standard deviation\n",
    "np.std(l, ddof=1)"
   ]
  },
  {
   "cell_type": "markdown",
   "metadata": {},
   "source": [
    "## Files"
   ]
  },
  {
   "cell_type": "code",
   "execution_count": 5,
   "metadata": {},
   "outputs": [
    {
     "name": "stdout",
     "output_type": "stream",
     "text": [
      "<_io.TextIOWrapper name='../data/data.txt' mode='r' encoding='cp1252'> <class '_io.TextIOWrapper'>\n"
     ]
    }
   ],
   "source": [
    "f = open('../data/data.txt', 'r')\n",
    "print (f, type(f))\n",
    "f.close()"
   ]
  },
  {
   "cell_type": "code",
   "execution_count": 7,
   "metadata": {},
   "outputs": [],
   "source": [
    "# -------------------------------------\n",
    "# reads a file consisting of \n",
    "#   integers (1 integer on each line) and\n",
    "#   stores the integers in a list\n",
    "# -------------------------------------\n",
    "# Open the file\n",
    "f = open('../data/data.txt', 'r')\n",
    "# Setup the list for the values\n",
    "vals = []\n",
    "# Priming read\n",
    "l = f.readline()\n",
    "# Loop until l is empty (end of file behavior)\n",
    "while (l) :\n",
    "    # Make sure it's not a blank line\n",
    "    if l.rstrip() :\n",
    "        # Strip the newline and convert to integer\n",
    "        vals.append(int(l))\n",
    "    # read the next line\n",
    "    l = f.readline()\n",
    "# close the file\n",
    "f.close()"
   ]
  },
  {
   "cell_type": "code",
   "execution_count": 8,
   "metadata": {},
   "outputs": [
    {
     "data": {
      "text/plain": [
       "[8,\n",
       " 9,\n",
       " 9,\n",
       " 10,\n",
       " 0,\n",
       " 12,\n",
       " 1,\n",
       " 1,\n",
       " 1,\n",
       " 2,\n",
       " 0,\n",
       " 2,\n",
       " 3,\n",
       " 3,\n",
       " 3,\n",
       " 3,\n",
       " 3,\n",
       " 3,\n",
       " 5,\n",
       " 5,\n",
       " 5,\n",
       " 5,\n",
       " 5,\n",
       " 5,\n",
       " 5,\n",
       " 27,\n",
       " 27,\n",
       " 25,\n",
       " 30,\n",
       " 42,\n",
       " 7,\n",
       " 7,\n",
       " 7,\n",
       " 7,\n",
       " 4,\n",
       " 4,\n",
       " 4,\n",
       " 19,\n",
       " 19,\n",
       " 29,\n",
       " 24,\n",
       " 28,\n",
       " 25,\n",
       " 13,\n",
       " 15]"
      ]
     },
     "execution_count": 8,
     "metadata": {},
     "output_type": "execute_result"
    }
   ],
   "source": [
    "vals"
   ]
  },
  {
   "cell_type": "code",
   "execution_count": null,
   "metadata": {},
   "outputs": [],
   "source": [
    "# same thing with a single comprehension\n",
    "vals1 = [int(i.rstrip()) for i in open('../data/data.txt','r') if i.rstrip()]\n",
    "vals == vals1"
   ]
  },
  {
   "cell_type": "code",
   "execution_count": null,
   "metadata": {},
   "outputs": [],
   "source": [
    "# Show the mean and std dev.\n",
    "print(\"Mean: {:.3f}\".format(mean(vals)))\n",
    "print(\"Std. Dev.: {:.3f}\".format(std_dev(vals)))"
   ]
  },
  {
   "cell_type": "code",
   "execution_count": null,
   "metadata": {},
   "outputs": [],
   "source": [
    "# Write the values to a new file with the values separated by commas (a single line)\n",
    "f = open('../data/data1.txt', 'w')\n",
    "for j in range(len(vals)):\n",
    "    # need the comma for all but the last one\n",
    "    if j < len(vals)-1:\n",
    "        f.write(\"{:},\".format(vals[j]))\n",
    "    else :\n",
    "        f.write(\"{:}\".format(vals[j]))\n",
    "f.close()\n"
   ]
  },
  {
   "cell_type": "code",
   "execution_count": null,
   "metadata": {},
   "outputs": [],
   "source": [
    "# same outcome using a string join.\n",
    "f = open('../data/data1.txt', 'w')\n",
    "f.write(\",\".join([str(v) for v in vals]))\n",
    "f.close()"
   ]
  },
  {
   "cell_type": "markdown",
   "metadata": {},
   "source": []
  },
  {
   "cell_type": "code",
   "execution_count": 9,
   "metadata": {},
   "outputs": [
    {
     "data": {
      "text/plain": [
       "['8,9,9,10,0,12,1,1,1,2,0,2,3,3,3,3,3,3,5,5,5,5,5,5,5,27,27,25,30,42,7,7,7,7,4,4,4,19,19,29,24,28,25,13,15']"
      ]
     },
     "execution_count": 9,
     "metadata": {},
     "output_type": "execute_result"
    }
   ],
   "source": [
    "# read and show the new file\n",
    "vals1 = [i.rstrip() for i in open('../data/data1.txt','r') if i.rstrip()]\n",
    "vals1"
   ]
  },
  {
   "cell_type": "code",
   "execution_count": 10,
   "metadata": {},
   "outputs": [
    {
     "name": "stdout",
     "output_type": "stream",
     "text": [
      "['y', 'x']\n",
      "['127500', '1877']\n",
      "['244900', '2224']\n",
      "['357000', '2583']\n",
      "['192000', '1554']\n",
      "['307000', '2261']\n",
      "['210000', '1888']\n",
      "['329000', '2836']\n",
      "['218000', '1863']\n",
      "['250000', '2574']\n",
      "['239000', '1860']\n",
      "['357150', '3843']\n",
      "['78500', '1024']\n",
      "['276000', '2563']\n",
      "['368653', '2429']\n",
      "['531164', '3103']\n",
      "['266967', '1971']\n",
      "['340000', '3020']\n",
      "['295099', '2269']\n",
      "['325000', '2356']\n",
      "['139000', '1527']\n",
      "['770000', '2467']\n",
      "['469821', '2912']\n",
      "['189900', '960']\n",
      "['79000', '1152']\n",
      "['335000', '2620']\n"
     ]
    }
   ],
   "source": [
    "# What about csv files?\n",
    "#  See https://docs.python.org/3/library/csv.html for more details\n",
    "import csv\n",
    "with open('../data/reg_sample.csv') as csvfile:\n",
    "    reader = csv.reader(csvfile, delimiter=',')\n",
    "    for row in reader:\n",
    "        # see the row objects returned from the reader iterator\n",
    "        print(row)\n",
    "        # see a more user-friendly version\n",
    "        #print(', '.join(row))"
   ]
  },
  {
   "cell_type": "code",
   "execution_count": 12,
   "metadata": {},
   "outputs": [],
   "source": [
    "# Or to create a list of lists from the csv file:\n",
    "with open('../data/reg_sample.csv') as csvfile:\n",
    "    reader = csv.reader(csvfile, delimiter=',')\n",
    "    vals = [row for row in reader]"
   ]
  },
  {
   "cell_type": "code",
   "execution_count": 13,
   "metadata": {},
   "outputs": [
    {
     "data": {
      "text/plain": [
       "[['y', 'x'],\n",
       " ['127500', '1877'],\n",
       " ['244900', '2224'],\n",
       " ['357000', '2583'],\n",
       " ['192000', '1554'],\n",
       " ['307000', '2261'],\n",
       " ['210000', '1888'],\n",
       " ['329000', '2836'],\n",
       " ['218000', '1863'],\n",
       " ['250000', '2574'],\n",
       " ['239000', '1860'],\n",
       " ['357150', '3843'],\n",
       " ['78500', '1024'],\n",
       " ['276000', '2563'],\n",
       " ['368653', '2429'],\n",
       " ['531164', '3103'],\n",
       " ['266967', '1971'],\n",
       " ['340000', '3020'],\n",
       " ['295099', '2269'],\n",
       " ['325000', '2356'],\n",
       " ['139000', '1527'],\n",
       " ['770000', '2467'],\n",
       " ['469821', '2912'],\n",
       " ['189900', '960'],\n",
       " ['79000', '1152'],\n",
       " ['335000', '2620']]"
      ]
     },
     "execution_count": 13,
     "metadata": {},
     "output_type": "execute_result"
    }
   ],
   "source": [
    "# Now you can do whatever you want with the data\n",
    "vals"
   ]
  }
 ],
 "metadata": {
  "kernelspec": {
   "display_name": "Python 3",
   "language": "python",
   "name": "python3"
  },
  "language_info": {
   "codemirror_mode": {
    "name": "ipython",
    "version": 3
   },
   "file_extension": ".py",
   "mimetype": "text/x-python",
   "name": "python",
   "nbconvert_exporter": "python",
   "pygments_lexer": "ipython3",
   "version": "3.8.3"
  }
 },
 "nbformat": 4,
 "nbformat_minor": 2
}
