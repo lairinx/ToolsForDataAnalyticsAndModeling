{
 "cells": [
  {
   "cell_type": "markdown",
   "metadata": {},
   "source": [
    "# Date and Time Handling\n",
    "Main module documentation: https://docs.python.org/3/library/datetime.html\n",
    "\n",
    "Dates/times are difficult to work with (initially).  The sooner that you learn to use the datetime module (strptime() and strftime(), in particular), the better off you will be!  Just remember: strp --> \"string parse\" and strf --> \"string format.\n",
    "\n"
   ]
  },
  {
   "cell_type": "code",
<<<<<<< HEAD
   "execution_count": 2,
=======
   "execution_count": 1,
>>>>>>> 4feb963cc058677ea3fd36b5ec9d36564851d986
   "metadata": {},
   "outputs": [
    {
     "data": {
      "text/plain": [
<<<<<<< HEAD
       "datetime.date(2020, 9, 12)"
      ]
     },
     "execution_count": 2,
=======
       "datetime.date(2020, 9, 29)"
      ]
     },
     "execution_count": 1,
>>>>>>> 4feb963cc058677ea3fd36b5ec9d36564851d986
     "metadata": {},
     "output_type": "execute_result"
    }
   ],
   "source": [
    "# the main datetime module\n",
    "import datetime\n",
    "\n",
    "# today's date\n",
    "today = datetime.date.today()\n",
    "today"
   ]
  },
  {
   "cell_type": "code",
<<<<<<< HEAD
   "execution_count": 3,
=======
   "execution_count": 2,
>>>>>>> 4feb963cc058677ea3fd36b5ec9d36564851d986
   "metadata": {},
   "outputs": [
    {
     "name": "stdout",
     "output_type": "stream",
     "text": [
<<<<<<< HEAD
      "12 9 2020\n"
=======
      "29 9 2020\n"
>>>>>>> 4feb963cc058677ea3fd36b5ec9d36564851d986
     ]
    }
   ],
   "source": [
    "print(today.day, today.month, today.year)"
   ]
  },
  {
   "cell_type": "code",
<<<<<<< HEAD
   "execution_count": 4,
=======
   "execution_count": 3,
>>>>>>> 4feb963cc058677ea3fd36b5ec9d36564851d986
   "metadata": {},
   "outputs": [
    {
     "data": {
      "text/plain": [
<<<<<<< HEAD
       "datetime.datetime(2020, 9, 12, 16, 38, 35, 671310)"
      ]
     },
     "execution_count": 4,
=======
       "datetime.datetime(2020, 9, 29, 11, 31, 37, 817848)"
      ]
     },
     "execution_count": 3,
>>>>>>> 4feb963cc058677ea3fd36b5ec9d36564851d986
     "metadata": {},
     "output_type": "execute_result"
    }
   ],
   "source": [
    "rightnow = datetime.datetime.now()\n",
    "rightnow"
   ]
  },
  {
   "cell_type": "code",
<<<<<<< HEAD
   "execution_count": 5,
=======
   "execution_count": 4,
>>>>>>> 4feb963cc058677ea3fd36b5ec9d36564851d986
   "metadata": {},
   "outputs": [
    {
     "data": {
      "text/plain": [
       "datetime.datetime(2019, 9, 23, 15, 23, 12)"
      ]
     },
<<<<<<< HEAD
     "execution_count": 5,
=======
     "execution_count": 4,
>>>>>>> 4feb963cc058677ea3fd36b5ec9d36564851d986
     "metadata": {},
     "output_type": "execute_result"
    }
   ],
   "source": [
    "# Creating a datetime object using date\n",
    "d = datetime.datetime(2019, 9, 23, 15, 23, 12)\n",
    "d"
   ]
  },
  {
   "cell_type": "markdown",
   "metadata": {},
   "source": [
    "### Converting strings to datetime objects - strptime()"
   ]
  },
  {
   "cell_type": "code",
<<<<<<< HEAD
   "execution_count": 6,
=======
   "execution_count": 5,
>>>>>>> 4feb963cc058677ea3fd36b5ec9d36564851d986
   "metadata": {},
   "outputs": [
    {
     "data": {
      "text/plain": [
       "(datetime.datetime(2018, 9, 4, 0, 0), str, datetime.datetime)"
      ]
     },
<<<<<<< HEAD
     "execution_count": 6,
=======
     "execution_count": 5,
>>>>>>> 4feb963cc058677ea3fd36b5ec9d36564851d986
     "metadata": {},
     "output_type": "execute_result"
    }
   ],
   "source": [
    "# strptime() (the 'p' is for 'parse')\n",
    "dstr = \"9/4/2018\"\n",
    "d = datetime.datetime.strptime(dstr, \"%m/%d/%Y\")\n",
    "d, type(dstr), type(d)"
   ]
  },
  {
   "cell_type": "code",
<<<<<<< HEAD
   "execution_count": 7,
=======
   "execution_count": 6,
>>>>>>> 4feb963cc058677ea3fd36b5ec9d36564851d986
   "metadata": {},
   "outputs": [
    {
     "data": {
      "text/plain": [
       "datetime.datetime(2018, 9, 4, 9, 45, 32)"
      ]
     },
<<<<<<< HEAD
     "execution_count": 7,
=======
     "execution_count": 6,
>>>>>>> 4feb963cc058677ea3fd36b5ec9d36564851d986
     "metadata": {},
     "output_type": "execute_result"
    }
   ],
   "source": [
    "dstr = \"9/4/2018 09:45:32\"\n",
    "d = datetime.datetime.strptime(dstr, \"%m/%d/%Y %H:%M:%S\")\n",
    "d"
   ]
  },
  {
   "cell_type": "markdown",
   "metadata": {},
   "source": [
    "### Convertime datetime objects to strings - strftime()"
   ]
  },
  {
   "cell_type": "code",
<<<<<<< HEAD
   "execution_count": 8,
=======
   "execution_count": 11,
>>>>>>> 4feb963cc058677ea3fd36b5ec9d36564851d986
   "metadata": {},
   "outputs": [
    {
     "data": {
      "text/plain": [
<<<<<<< HEAD
       "'09/12/2020'"
      ]
     },
     "execution_count": 8,
=======
       "'09/29/2020'"
      ]
     },
     "execution_count": 11,
>>>>>>> 4feb963cc058677ea3fd36b5ec9d36564851d986
     "metadata": {},
     "output_type": "execute_result"
    }
   ],
   "source": [
    "# strftime() (the 'f' is for 'format')\n",
    "today.strftime(\"%m/%d/%Y\") "
   ]
  },
  {
   "cell_type": "code",
<<<<<<< HEAD
   "execution_count": 9,
=======
   "execution_count": 12,
>>>>>>> 4feb963cc058677ea3fd36b5ec9d36564851d986
   "metadata": {},
   "outputs": [
    {
     "data": {
      "text/plain": [
<<<<<<< HEAD
       "'09/12/20'"
      ]
     },
     "execution_count": 9,
=======
       "'09/29/20'"
      ]
     },
     "execution_count": 12,
>>>>>>> 4feb963cc058677ea3fd36b5ec9d36564851d986
     "metadata": {},
     "output_type": "execute_result"
    }
   ],
   "source": [
    "today.strftime(\"%m/%d/%y\") "
   ]
  },
  {
   "cell_type": "code",
<<<<<<< HEAD
   "execution_count": 10,
=======
   "execution_count": 13,
>>>>>>> 4feb963cc058677ea3fd36b5ec9d36564851d986
   "metadata": {},
   "outputs": [
    {
     "data": {
      "text/plain": [
<<<<<<< HEAD
       "'September 12, 2020'"
      ]
     },
     "execution_count": 10,
=======
       "'September 29, 2020'"
      ]
     },
     "execution_count": 13,
>>>>>>> 4feb963cc058677ea3fd36b5ec9d36564851d986
     "metadata": {},
     "output_type": "execute_result"
    }
   ],
   "source": [
    "today.strftime(\"%B %d, %Y\") "
   ]
  },
  {
   "cell_type": "code",
<<<<<<< HEAD
   "execution_count": 11,
=======
   "execution_count": 14,
>>>>>>> 4feb963cc058677ea3fd36b5ec9d36564851d986
   "metadata": {},
   "outputs": [
    {
     "name": "stdout",
     "output_type": "stream",
     "text": [
<<<<<<< HEAD
      "datetime: 2020-09-12 16:39:03.152395\n",
      "\tSat Sep 12 16:39:03 2020\n",
      "\tSeptember 12, 2020\n",
      "\t12/09/2020\n",
      "\t09/20\n",
      "\tSaturday September 12, 2020\n",
      "\t09/12/2020 16:39:03\n",
      "\t04:39:03 PM\n"
=======
      "datetime: 2020-09-29 12:14:22.813519\n",
      "\tTue Sep 29 12:14:22 2020\n",
      "\tSeptember 29, 2020\n",
      "\t29/09/2020\n",
      "\t09/20\n",
      "\tTuesday September 29, 2020\n",
      "\t09/29/2020 12:14:22\n",
      "\t12:14:22 PM\n"
>>>>>>> 4feb963cc058677ea3fd36b5ec9d36564851d986
     ]
    }
   ],
   "source": [
    "# Look at several formats ...\n",
    "# Look at some other formats\n",
    "# See https://docs.python.org/3/library/datetime.html#strftime-and-strptime-behavior for details\n",
    "# Right Now:\n",
    "date_dtg = datetime.datetime.now()\n",
    "fmts = [\"%c\",\"%B %d, %Y\", \"%d/%m/%Y\", \"%m/%y\", \"%A %B %d, %Y\", \"%m/%d/%Y %H:%M:%S\", \"%I:%M:%S %p\"]\n",
    "print(\"datetime: {:}\".format(date_dtg))\n",
    "for fmt in fmts:\n",
    "    print (\"\\t\" + date_dtg.strftime(fmt))"
   ]
  },
  {
   "cell_type": "markdown",
   "metadata": {},
   "source": [
    "### Example - Reading a file with date/time fields"
   ]
  },
  {
   "cell_type": "code",
   "execution_count": 15,
   "metadata": {},
   "outputs": [
    {
     "data": {
      "text/plain": [
       "[['3/1/1964', 12.0, 11.6],\n",
       " ['4/1/1964', 12.2, 11.8],\n",
       " ['5/1/1964', 12.3, 12.0],\n",
       " ['6/1/1964', 12.4, 12.0],\n",
       " ['7/1/1964', 12.4, 12.0]]"
      ]
     },
     "execution_count": 15,
     "metadata": {},
     "output_type": "execute_result"
    }
   ],
   "source": [
    "# from our Construction Price Indexes problem ...\n",
    "# Now we can deal with the dates ... Original version\n",
    "# keeping dates as the original strings\n",
    "with open(\"..\\data\\construction1u.csv\") as f:\n",
    "    vdataset = [line.rstrip().split(',') for line in f.readlines()[5:]]\n",
    "# Convert the 2nd and 3rd elements to floats    \n",
    "for row in vdataset:\n",
    "    row[1] = float(row[1])\n",
    "    row[2] = float(row[2])\n",
    "vdataset[:5]"
   ]
  },
  {
   "cell_type": "code",
   "execution_count": 16,
   "metadata": {},
   "outputs": [
    {
     "data": {
      "text/plain": [
       "[[datetime.date(1964, 3, 1), 12.0, 11.6],\n",
       " [datetime.date(1964, 4, 1), 12.2, 11.8],\n",
       " [datetime.date(1964, 5, 1), 12.3, 12.0],\n",
       " [datetime.date(1964, 6, 1), 12.4, 12.0],\n",
       " [datetime.date(1964, 7, 1), 12.4, 12.0]]"
      ]
     },
     "execution_count": 16,
     "metadata": {},
     "output_type": "execute_result"
    }
   ],
   "source": [
    "# new version with dates converted to datetime objects\n",
    "with open(\"..\\data\\construction1u.csv\") as f:\n",
    "    vdataset = [line.rstrip().split(',') for line in f.readlines()[5:]]\n",
    "# Convert the 2nd and 3rd elements to floats    \n",
    "for row in vdataset:\n",
    "    row[0] = datetime.datetime.strptime(row[0], \"%m/%d/%Y\").date()\n",
    "    row[1] = float(row[1])\n",
    "    row[2] = float(row[2])\n",
    "vdataset[:5]"
   ]
  },
  {
   "cell_type": "markdown",
   "metadata": {},
   "source": [
    "### Date/Time Math"
   ]
  },
  {
   "cell_type": "code",
   "execution_count": 17,
   "metadata": {},
   "outputs": [
    {
     "data": {
      "text/plain": [
       "datetime.datetime(2020, 9, 29, 12, 14, 46, 255819)"
      ]
     },
     "execution_count": 17,
     "metadata": {},
     "output_type": "execute_result"
    }
   ],
   "source": [
    "rightnow = datetime.datetime.now()\n",
    "rightnow"
   ]
  },
  {
   "cell_type": "code",
   "execution_count": 18,
   "metadata": {},
   "outputs": [
    {
     "data": {
      "text/plain": [
       "datetime.datetime(2020, 9, 30, 12, 14, 46, 255819)"
      ]
     },
     "execution_count": 18,
     "metadata": {},
     "output_type": "execute_result"
    }
   ],
   "source": [
    "# Timedelta - class datetime.timedelta(days=0, seconds=0, microseconds=0, milliseconds=0, minutes=0, hours=0, weeks=0)\n",
    "tomorrow = rightnow + datetime.timedelta(days=1)\n",
    "tomorrow"
   ]
  },
  {
   "cell_type": "code",
   "execution_count": 19,
   "metadata": {},
   "outputs": [
    {
     "data": {
      "text/plain": [
       "datetime.datetime(2020, 11, 10, 12, 14, 46, 255819)"
      ]
     },
     "execution_count": 19,
     "metadata": {},
     "output_type": "execute_result"
    }
   ],
   "source": [
    "sixweeks = rightnow + datetime.timedelta(weeks=6)\n",
    "sixweeks"
   ]
  },
  {
   "cell_type": "code",
   "execution_count": null,
   "metadata": {},
   "outputs": [],
   "source": []
  }
 ],
 "metadata": {
  "kernelspec": {
   "display_name": "Python 3",
   "language": "python",
   "name": "python3"
  },
  "language_info": {
   "codemirror_mode": {
    "name": "ipython",
    "version": 3
   },
   "file_extension": ".py",
   "mimetype": "text/x-python",
   "name": "python",
   "nbconvert_exporter": "python",
   "pygments_lexer": "ipython3",
   "version": "3.8.3"
  }
 },
 "nbformat": 4,
 "nbformat_minor": 2
}
