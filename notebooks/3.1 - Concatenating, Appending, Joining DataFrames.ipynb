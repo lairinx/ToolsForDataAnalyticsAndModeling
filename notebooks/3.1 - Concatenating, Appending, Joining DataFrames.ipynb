{
 "cells": [
  {
   "cell_type": "markdown",
   "metadata": {},
   "source": [
    "# Concatenating, Appending, Joining DataFrames\n",
    "\n",
    "This is a complex topic.  The examples below just demonstrate the basics -- you will need to do more investigation and/or experimentation when you have real work to do."
   ]
  },
  {
   "cell_type": "code",
   "execution_count": null,
   "metadata": {},
   "outputs": [],
   "source": [
    "import numpy as np\n",
    "import pandas as pd\n",
    "np.__version__, pd.__version__"
   ]
  },
  {
   "cell_type": "code",
   "execution_count": null,
   "metadata": {},
   "outputs": [],
   "source": [
    "A = pd.DataFrame({\"A\":[1, 2, 3], \"B\":[4, 5, 6]})\n",
    "A"
   ]
  },
  {
   "cell_type": "code",
   "execution_count": null,
   "metadata": {},
   "outputs": [],
   "source": [
    "B = pd.DataFrame({\"C\":[1, 2, 3], \"D\":[4, 5, 6]})\n",
    "B"
   ]
  },
  {
   "cell_type": "code",
   "execution_count": null,
   "metadata": {},
   "outputs": [],
   "source": [
    "# Careful ... indices don't have to be unique -- confusing.\n",
    "pd.concat([A, B], sort=False)"
   ]
  },
  {
   "cell_type": "code",
   "execution_count": null,
   "metadata": {},
   "outputs": [],
   "source": [
    "# try extracting row '1' - using the dictionary-type (explicit index) method\n",
    "pd.concat([A,B], sort=False).loc[1]"
   ]
  },
  {
   "cell_type": "code",
   "execution_count": null,
   "metadata": {},
   "outputs": [],
   "source": [
    "# or row '1' - using Python implicit numbering style\n",
    "pd.concat([A,B], sort=False).iloc[1]"
   ]
  },
  {
   "cell_type": "code",
   "execution_count": null,
   "metadata": {},
   "outputs": [],
   "source": [
    "# Catching repeats\n",
    "# We didn't go over exception handling -- look up 'try/catch' for details :-)\n",
    "try:\n",
    "    pd.concat([A, B], sort=False, verify_integrity=True)\n",
    "except ValueError as e:\n",
    "    print(\"ValueError:\", e)"
   ]
  },
  {
   "cell_type": "code",
   "execution_count": null,
   "metadata": {},
   "outputs": [],
   "source": [
    "# if indexes don't matter -- ignore them and create a new\n",
    "# explicit index with the combined dataframe\n",
    "pd.concat([A, B], sort=False, ignore_index=True)"
   ]
  },
  {
   "cell_type": "code",
   "execution_count": null,
   "metadata": {},
   "outputs": [],
   "source": [
    "# Now the explicit index matches the implict index\n",
    "pd.concat([A, B], sort=False, ignore_index=True).index"
   ]
  },
  {
   "cell_type": "code",
   "execution_count": null,
   "metadata": {},
   "outputs": [],
   "source": [
    "# specify that the concatenation should happen along axis 1\n",
    "pd.concat([A, B], axis=1)"
   ]
  },
  {
   "cell_type": "code",
   "execution_count": null,
   "metadata": {},
   "outputs": [],
   "source": [
    "C = pd.DataFrame({\"A\":[7, 8, 9], \"B\":[10, 11, 12]})\n",
    "C"
   ]
  },
  {
   "cell_type": "code",
   "execution_count": null,
   "metadata": {},
   "outputs": [],
   "source": [
    "pd.concat([A,C])"
   ]
  },
  {
   "cell_type": "code",
   "execution_count": null,
   "metadata": {},
   "outputs": [],
   "source": [
    "pd.concat([A,C], ignore_index=True)"
   ]
  },
  {
   "cell_type": "code",
   "execution_count": null,
   "metadata": {},
   "outputs": [],
   "source": [
    "pd.concat([A,C], axis=1)"
   ]
  },
  {
   "cell_type": "code",
   "execution_count": null,
   "metadata": {},
   "outputs": [],
   "source": [
    "pd.concat([A,C], axis=1)['B']"
   ]
  },
  {
   "cell_type": "code",
   "execution_count": null,
   "metadata": {},
   "outputs": [],
   "source": [
    "pd.concat([A,C], axis=1, ignore_index=True)"
   ]
  },
  {
   "cell_type": "code",
   "execution_count": null,
   "metadata": {},
   "outputs": [],
   "source": [
    "D = pd.DataFrame({\"C\":[7, 8, 9], \"D\":[10, 11, 12]}, index=['x', 'y', 'z'])\n",
    "D"
   ]
  },
  {
   "cell_type": "code",
   "execution_count": null,
   "metadata": {},
   "outputs": [],
   "source": [
    "E = pd.DataFrame({\"A\":[7, 8, 9], \"D\":[10, 11, 12]}, index=['x', 'y', 'z'])\n",
    "E"
   ]
  },
  {
   "cell_type": "code",
   "execution_count": null,
   "metadata": {},
   "outputs": [],
   "source": [
    "pd.concat([A,D], axis=1)"
   ]
  },
  {
   "cell_type": "code",
   "execution_count": null,
   "metadata": {},
   "outputs": [],
   "source": [
    "pd.concat([A, E], join_axes=[A.columns])"
   ]
  },
  {
   "cell_type": "code",
   "execution_count": null,
   "metadata": {},
   "outputs": [],
   "source": [
    "A"
   ]
  },
  {
   "cell_type": "code",
   "execution_count": null,
   "metadata": {},
   "outputs": [],
   "source": [
    "E"
   ]
  },
  {
   "cell_type": "markdown",
   "metadata": {},
   "source": [
    "## Joins\n",
    "\n",
    "Implements a subset of <em>relational algebra</em>.  If you have a database background, you will recognize this topic.  If not, we'll do a quick run-through here and will then circle back later in the semester when we get to the MySQL component."
   ]
  },
  {
   "cell_type": "code",
   "execution_count": null,
   "metadata": {},
   "outputs": [],
   "source": [
    "# Create a dataframe\n",
    "x = pd.DataFrame({'A' : [100, 200, 400], 'B' : [1, 3, 4]})\n",
    "x"
   ]
  },
  {
   "cell_type": "code",
   "execution_count": null,
   "metadata": {},
   "outputs": [],
   "source": [
    "# Create a second data frame with a common column ('A')\n",
    "y = pd.DataFrame({'A' : [100, 200, 900, 1000], 'C' : [18, 13, 12, 22]})\n",
    "y"
   ]
  },
  {
   "cell_type": "code",
   "execution_count": null,
   "metadata": {},
   "outputs": [],
   "source": [
    "# Concatenate - try with axis = 0, 1\n",
    "pd.concat([x, y], sort=False, axis=1)"
   ]
  },
  {
   "cell_type": "code",
   "execution_count": null,
   "metadata": {},
   "outputs": [],
   "source": [
    "# With a join, we want something different -- we want to join rows that have a common\n",
    "# key value so that we can use columns from both sets.\n",
    "#\n",
    "# Default merge - include rows where the common row values match (an 'inner join')\n",
    "pd.merge(x, y)"
   ]
  },
  {
   "cell_type": "code",
   "execution_count": null,
   "metadata": {},
   "outputs": [],
   "source": [
    "# try inner, left, right, outer joins\n",
    "pd.merge(x, y, how=\"inner\")"
   ]
  },
  {
   "cell_type": "markdown",
   "metadata": {},
   "source": [
    "### Multi-table joins"
   ]
  },
  {
   "cell_type": "code",
   "execution_count": null,
   "metadata": {},
   "outputs": [],
   "source": [
    "# Create a third data frame with a common column ('A')\n",
    "z = pd.DataFrame({'A' : [100, 400, 1000, 2000], 'D' : [9,6,4,18]})\n",
    "z"
   ]
  },
  {
   "cell_type": "code",
   "execution_count": null,
   "metadata": {},
   "outputs": [],
   "source": [
    "# again, test with inner, left, right, outer -- in all combinations\n",
    "pd.merge(z,pd.merge(x, y, how=\"inner\"), how=\"inner\")"
   ]
  },
  {
   "cell_type": "code",
   "execution_count": null,
   "metadata": {},
   "outputs": [],
   "source": [
    "# What if I have multiple instances of a key value?\n",
    "# Create a third data frame with a common column ('A')\n",
    "z = pd.DataFrame({'A' : [100, 100, 100, 2000], 'D' : [9,6,4,18]})\n",
    "z"
   ]
  },
  {
   "cell_type": "code",
   "execution_count": null,
   "metadata": {},
   "outputs": [],
   "source": [
    "# Many-to-one relationship\n",
    "pd.merge(z,pd.merge(x, y, how=\"inner\"), how=\"inner\")"
   ]
  },
  {
   "cell_type": "markdown",
   "metadata": {},
   "source": [
    "## Order-Item-SKU Example"
   ]
  },
  {
   "cell_type": "code",
   "execution_count": null,
   "metadata": {},
   "outputs": [],
   "source": [
    "# Assume that we have a dataframe with a list of orders.\n",
    "orders = pd.DataFrame({\n",
    "          'order' : [   123,    456,      789,    823,     950,       1024],\n",
    "       'customer' : [ 'Jeff',  'Bob', 'Annie', 'Jeff', 'Chuck', 'Michelle']})\n",
    "orders"
   ]
  },
  {
   "cell_type": "code",
   "execution_count": null,
   "metadata": {},
   "outputs": [],
   "source": [
    "# And we have a separate dataframe with the items in each order\n",
    "items = pd.DataFrame({\n",
    "        'order' : [   123,    123,    123,    456,    456,    789,    823,     950,    950,   1024],\n",
    "          'sku' : ['A109', 'A100', 'A200', 'A109', 'A227', 'A109', 'A100',  'A300', 'A904', 'A200'],\n",
    "        'price' : [765.55, 227.83,  12.50, 665.55,  10.68, 760.00, 225.55, 2650.55,  15.22,  12.25]})\n",
    "items"
   ]
  },
  {
   "cell_type": "code",
   "execution_count": null,
   "metadata": {},
   "outputs": [],
   "source": [
    "# And we have a third dataframe with the item (SKU) information.\n",
    "skus = pd.DataFrame({\n",
    "      'sku' : [   'A100',    'A109',    'A200',    'A227',    'A300',    'A876',    'A904',   'A1021'],\n",
    "    'descr' : ['Widget1', 'Widget2', 'Widget3', 'Widget4', 'Widget5', 'Widget6', 'Widget7', 'Widget8'],\n",
    "     'cost' : [    12.50,    423.50,      6.50,      6.34,   1850.45,      3.23,      7.50,     18.55]})\n",
    "skus"
   ]
  },
  {
   "cell_type": "code",
   "execution_count": null,
   "metadata": {},
   "outputs": [],
   "source": [
    "# We'd like to join (merge) the data so that the item information can be \n",
    "# easily combined with the order information.\n",
    "pd.merge(orders, items)"
   ]
  },
  {
   "cell_type": "code",
   "execution_count": null,
   "metadata": {},
   "outputs": [],
   "source": [
    "# And now add in the item/SKU information (and save the resulting dataframe)\n",
    "sales = pd.merge(skus, pd.merge(orders, items))\n",
    "sales"
   ]
  },
  {
   "cell_type": "code",
   "execution_count": null,
   "metadata": {},
   "outputs": [],
   "source": [
    "# now that we have the data we need, let's add a calculated column\n",
    "sales['profit'] = sales['price'] - sales['cost']\n",
    "sales"
   ]
  },
  {
   "cell_type": "code",
   "execution_count": null,
   "metadata": {},
   "outputs": [],
   "source": [
    "# Grab all my stuff ...\n",
    "sales[sales.customer == 'Jeff']"
   ]
  },
  {
   "cell_type": "code",
   "execution_count": null,
   "metadata": {},
   "outputs": [],
   "source": [
    "# Total the profit ... How does this work (i.e., can you explain steps?\n",
    "# What an awesome test question this would be ... :-)).\n",
    "sales[sales.customer == 'Jeff'].profit.sum()"
   ]
  },
  {
   "cell_type": "code",
   "execution_count": null,
   "metadata": {},
   "outputs": [],
   "source": [
    "sales[sales.profit > 250]"
   ]
  },
  {
   "cell_type": "code",
   "execution_count": null,
   "metadata": {},
   "outputs": [],
   "source": [
    "# What if we use a left join on the second merge/join ...\n",
    "a = pd.merge(skus, pd.merge(orders, items), how=\"left\")\n",
    "a"
   ]
  },
  {
   "cell_type": "code",
   "execution_count": null,
   "metadata": {},
   "outputs": [],
   "source": [
    "# Now, suppose that we define a mask to identify those entries\n",
    "# with no customer ...\n",
    "pd.isna(a['customer'])"
   ]
  },
  {
   "cell_type": "code",
   "execution_count": null,
   "metadata": {},
   "outputs": [],
   "source": [
    "# ... and then apply that mask to the left-join dataset ...\n",
    "a[pd.isna(a['customer'])]"
   ]
  }
 ],
 "metadata": {
  "kernelspec": {
   "display_name": "Python 3",
   "language": "python",
   "name": "python3"
  },
  "language_info": {
   "codemirror_mode": {
    "name": "ipython",
    "version": 3
   },
   "file_extension": ".py",
   "mimetype": "text/x-python",
   "name": "python",
   "nbconvert_exporter": "python",
   "pygments_lexer": "ipython3",
   "version": "3.6.9"
  }
 },
 "nbformat": 4,
 "nbformat_minor": 2
}
