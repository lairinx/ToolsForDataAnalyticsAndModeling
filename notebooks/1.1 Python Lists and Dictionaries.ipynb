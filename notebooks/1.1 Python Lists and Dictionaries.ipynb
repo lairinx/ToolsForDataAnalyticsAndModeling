{
 "cells": [
  {
   "cell_type": "markdown",
   "metadata": {},
   "source": [
    "# 1.1 Python Lists and Dictionaries\n",
    "\n",
    "This section introduces Python lists, dictionaries and comprehensions.  The objects are foundational to Python and are used extensively."
   ]
  },
  {
   "cell_type": "markdown",
   "metadata": {},
   "source": [
    "## Introduction to Lists\n",
    "Lists are *sequences* of objects.  A *sequence* is a \"positionally ordered collection of other objects.\"  Lists can include any types of Python objects (and do not need to be homogeneous)."
   ]
  },
  {
   "cell_type": "code",
   "execution_count": 1,
   "metadata": {},
   "outputs": [
    {
     "data": {
      "text/plain": [
       "[1, 2, 3, 17.24, 967, 45, 'dog', 'cat', [1, 2, 3]]"
      ]
     },
     "execution_count": 1,
     "metadata": {},
     "output_type": "execute_result"
    }
   ],
   "source": [
    "# Define a list and then show the list.  Note that the list contains objects of \n",
    "# different types (ints, floats, strings).\n",
    "l1 = [1, 2, 3, 17.24, 967, 45, \"dog\", 'cat', [1, 2, 3]]\n",
    "l1"
   ]
  },
  {
   "cell_type": "code",
   "execution_count": 2,
   "metadata": {},
   "outputs": [
    {
     "data": {
      "text/plain": [
       "(1, 2)"
      ]
     },
     "execution_count": 2,
     "metadata": {},
     "output_type": "execute_result"
    }
   ],
   "source": [
    "# element referencing, i, -i, 0-based.\n",
    "l1[0], l1[1]"
   ]
  },
  {
   "cell_type": "code",
   "execution_count": 3,
   "metadata": {},
   "outputs": [
    {
     "data": {
      "text/plain": [
       "[1, 2, 3]"
      ]
     },
     "execution_count": 3,
     "metadata": {},
     "output_type": "execute_result"
    }
   ],
   "source": [
    "# and can be negative (-1 starts at the \"end\" of the list)\n",
    "l1[-1]"
   ]
  },
  {
   "cell_type": "code",
   "execution_count": 4,
   "metadata": {},
   "outputs": [
    {
     "name": "stdout",
     "output_type": "stream",
     "text": [
      "1\n",
      "2\n",
      "3\n",
      "17.24\n",
      "967\n",
      "45\n",
      "dog\n",
      "cat\n",
      "[1, 2, 3]\n"
     ]
    }
   ],
   "source": [
    "# Lists have \"iterators\" that allow you to easily iterate though the list elements\n",
    "# without using explicit indices\n",
    "for item in l1:\n",
    "    print(item)"
   ]
  },
  {
   "cell_type": "code",
   "execution_count": 5,
   "metadata": {},
   "outputs": [
    {
     "name": "stdout",
     "output_type": "stream",
     "text": [
      "1\n",
      "2\n",
      "3\n",
      "17.24\n",
      "967\n",
      "45\n",
      "dog\n",
      "cat\n",
      "[1, 2, 3]\n"
     ]
    }
   ],
   "source": [
    "# as compared to the traditional indexing method ...\n",
    "for j in range(len(l1)):\n",
    "    print(l1[j])"
   ]
  },
  {
   "cell_type": "code",
   "execution_count": 6,
   "metadata": {},
   "outputs": [
    {
     "data": {
      "text/plain": [
       "[3, 17.24, 967, 45]"
      ]
     },
     "execution_count": 6,
     "metadata": {},
     "output_type": "execute_result"
    }
   ],
   "source": [
    "# List slicing - as with string slicing, the slice \n",
    "# icludes elements i, i+1, i+2, up to, but not including j (and is a separate list)\n",
    "l2 = l1[2:6]\n",
    "l2"
   ]
  },
  {
   "cell_type": "code",
   "execution_count": 7,
   "metadata": {},
   "outputs": [
    {
     "data": {
      "text/plain": [
       "[1,\n",
       " 2,\n",
       " 3,\n",
       " 17.24,\n",
       " 967,\n",
       " 45,\n",
       " 'dog',\n",
       " 'cat',\n",
       " [1, 2, 3],\n",
       " 3,\n",
       " 17.24,\n",
       " 967,\n",
       " 45,\n",
       " 86.4,\n",
       " 91.8,\n",
       " 'pony']"
      ]
     },
     "execution_count": 7,
     "metadata": {},
     "output_type": "execute_result"
    }
   ],
   "source": [
    "# contatenation\n",
    "l3 = l1 + l2 + [86.4, 91.8, 'pony']\n",
    "l3"
   ]
  },
  {
   "cell_type": "code",
   "execution_count": 8,
   "metadata": {},
   "outputs": [
    {
     "data": {
      "text/plain": [
       "[1, 2, 3, 1, 2, 3, 1, 2, 3]"
      ]
     },
     "execution_count": 8,
     "metadata": {},
     "output_type": "execute_result"
    }
   ],
   "source": [
    "# repetition\n",
    "l4 = l3[:3]*3\n",
    "l4"
   ]
  },
  {
   "cell_type": "code",
   "execution_count": 9,
   "metadata": {},
   "outputs": [
    {
     "data": {
      "text/plain": [
       "[[1, 2, 3], [4, 5, 6], [7, 8, 9]]"
      ]
     },
     "execution_count": 9,
     "metadata": {},
     "output_type": "execute_result"
    }
   ],
   "source": [
    "# Nested lists - this is a \"list of lists.\"\n",
    "l2 = [[1, 2, 3], [4, 5, 6], [7, 8, 9]]\n",
    "l2"
   ]
  },
  {
   "cell_type": "code",
   "execution_count": 10,
   "metadata": {},
   "outputs": [
    {
     "data": {
      "text/plain": [
       "[[1, 2, 3], [4, 5, 6], [7, 8, 9]]"
      ]
     },
     "execution_count": 10,
     "metadata": {},
     "output_type": "execute_result"
    }
   ],
   "source": [
    "# this one and the previous one are equivalent -- which is clearer (visually)?\n",
    "l2 = [ [1, 2, 3]\n",
    "     , [4, 5, 6]\n",
    "     , [7, 8, 9]\n",
    "     ]\n",
    "l2"
   ]
  },
  {
   "cell_type": "code",
   "execution_count": 11,
   "metadata": {},
   "outputs": [
    {
     "name": "stdout",
     "output_type": "stream",
     "text": [
      "[1, 2, 3]\n",
      "[4, 5, 6]\n",
      "[7, 8, 9]\n"
     ]
    }
   ],
   "source": [
    "# to view the nested list (list of lists) in matrix form:\n",
    "for r in l2:\n",
    "    print(r)"
   ]
  },
  {
   "cell_type": "markdown",
   "metadata": {},
   "source": [
    "### List Mutability\n",
    "This is IMPORTANT and causes beginners problems.  Unlike simple objects, lists are *mutable* in Python."
   ]
  },
  {
   "cell_type": "code",
   "execution_count": 12,
   "metadata": {},
   "outputs": [
    {
     "data": {
      "text/plain": [
       "([1, 2, 3], [1, 2, 3])"
      ]
     },
     "execution_count": 12,
     "metadata": {},
     "output_type": "execute_result"
    }
   ],
   "source": [
    "# Create a list and assign two references to that list\n",
    "l1 = [1, 2, 3]\n",
    "l2 = l1\n",
    "l1, l2"
   ]
  },
  {
   "cell_type": "code",
   "execution_count": 2,
   "metadata": {},
   "outputs": [
    {
     "data": {
      "text/plain": [
       "(['The dog ate my homework.', 2, 3], ['The dog ate my homework.', 2, 3])"
      ]
     },
     "execution_count": 2,
     "metadata": {},
     "output_type": "execute_result"
    }
   ],
   "source": [
    "# Update the first element of l1\n",
    "l1[0] = \"The dog ate my homework.\"\n",
    "# Now show both lists.  \n",
    "l1, l2"
   ]
  },
  {
   "cell_type": "code",
   "execution_count": 14,
   "metadata": {},
   "outputs": [
    {
     "data": {
      "text/plain": [
       "(123, 123)"
      ]
     },
     "execution_count": 14,
     "metadata": {},
     "output_type": "execute_result"
    }
   ],
   "source": [
    "# compare to the similar actions with simple objects (which are immutable)\n",
    "x = 123\n",
    "y = x\n",
    "x, y"
   ]
  },
  {
   "cell_type": "code",
   "execution_count": 15,
   "metadata": {},
   "outputs": [
    {
     "data": {
      "text/plain": [
       "('The dog ate my homework.', 123)"
      ]
     },
     "execution_count": 15,
     "metadata": {},
     "output_type": "execute_result"
    }
   ],
   "source": [
    "x = \"The dog ate my homework.\"\n",
    "x, y"
   ]
  },
  {
   "cell_type": "code",
   "execution_count": 4,
   "metadata": {},
   "outputs": [
    {
     "data": {
      "text/plain": [
       "([1, 2, 3], [1, 2, 3])"
      ]
     },
     "execution_count": 4,
     "metadata": {},
     "output_type": "execute_result"
    }
   ],
   "source": [
    "# compare with this version (reset the two lists first)\n",
    "l1 = [1, 2, 3]\n",
    "l2 = l1\n",
    "l1, l2"
   ]
  },
  {
   "cell_type": "code",
   "execution_count": 5,
   "metadata": {},
   "outputs": [
    {
     "data": {
      "text/plain": [
       "(['a', 'b'], [1, 2, 3])"
      ]
     },
     "execution_count": 5,
     "metadata": {},
     "output_type": "execute_result"
    }
   ],
   "source": [
    "# Why was L2 changed last time but not this time?\n",
    "l1 = ['a', 'b']\n",
    "l1, l2"
   ]
  },
  {
   "cell_type": "markdown",
   "metadata": {},
   "source": [
    "### Sample List/Sequence Functions/Methods"
   ]
  },
  {
   "cell_type": "code",
   "execution_count": 7,
   "metadata": {},
   "outputs": [
    {
     "data": {
      "text/plain": [
       "[1, 2, 3, 'cow', 0]"
      ]
     },
     "execution_count": 7,
     "metadata": {},
     "output_type": "execute_result"
    }
   ],
   "source": [
    "# append\n",
    "l = [1, 2, 3, 'cow']\n",
    "l.append(0)\n",
    "l"
   ]
  },
  {
   "cell_type": "code",
   "execution_count": 8,
   "metadata": {},
   "outputs": [
    {
     "data": {
      "text/plain": [
       "([1, 2, 3, 'cow'], 0)"
      ]
     },
     "execution_count": 8,
     "metadata": {},
     "output_type": "execute_result"
    }
   ],
   "source": [
    "# pop\n",
    "x = l.pop()\n",
    "l, x"
   ]
  },
  {
   "cell_type": "code",
   "execution_count": 9,
   "metadata": {},
   "outputs": [],
   "source": [
    "l.remove?"
   ]
  },
  {
   "cell_type": "code",
   "execution_count": 10,
   "metadata": {},
   "outputs": [
    {
     "data": {
      "text/plain": [
       "[1, 2, 'cow']"
      ]
     },
     "execution_count": 10,
     "metadata": {},
     "output_type": "execute_result"
    }
   ],
   "source": [
    "# remove - try l.remove? and enter (to see the help)\n",
    "l.remove(3)\n",
    "l"
   ]
  },
  {
   "cell_type": "code",
   "execution_count": 11,
   "metadata": {},
   "outputs": [
    {
     "ename": "TypeError",
     "evalue": "'<' not supported between instances of 'str' and 'int'",
     "output_type": "error",
     "traceback": [
      "\u001b[1;31m---------------------------------------------------------------------------\u001b[0m",
      "\u001b[1;31mTypeError\u001b[0m                                 Traceback (most recent call last)",
      "\u001b[1;32m<ipython-input-11-585540cd0328>\u001b[0m in \u001b[0;36m<module>\u001b[1;34m\u001b[0m\n\u001b[0;32m      2\u001b[0m \u001b[1;31m#  since the default sorting can't process numbers and strings together.  We will revisit\u001b[0m\u001b[1;33m\u001b[0m\u001b[1;33m\u001b[0m\u001b[1;33m\u001b[0m\u001b[0m\n\u001b[0;32m      3\u001b[0m \u001b[1;31m#  this limitation later.\u001b[0m\u001b[1;33m\u001b[0m\u001b[1;33m\u001b[0m\u001b[1;33m\u001b[0m\u001b[0m\n\u001b[1;32m----> 4\u001b[1;33m \u001b[0ml\u001b[0m\u001b[1;33m.\u001b[0m\u001b[0msort\u001b[0m\u001b[1;33m(\u001b[0m\u001b[1;33m)\u001b[0m\u001b[1;33m\u001b[0m\u001b[1;33m\u001b[0m\u001b[0m\n\u001b[0m\u001b[0;32m      5\u001b[0m \u001b[0ml\u001b[0m\u001b[1;33m\u001b[0m\u001b[1;33m\u001b[0m\u001b[0m\n",
      "\u001b[1;31mTypeError\u001b[0m: '<' not supported between instances of 'str' and 'int'"
     ]
    }
   ],
   "source": [
    "#sort - Note that in the default version (with 'cow' in the list), you'll get an error\n",
    "#  since the default sorting can't process numbers and strings together.  We will revisit\n",
    "#  this limitation later.\n",
    "l.sort()\n",
    "l"
   ]
  },
  {
   "cell_type": "code",
   "execution_count": 12,
   "metadata": {},
   "outputs": [
    {
     "data": {
      "text/plain": [
       "[1, 2, 3, 9, 22]"
      ]
     },
     "execution_count": 12,
     "metadata": {},
     "output_type": "execute_result"
    }
   ],
   "source": [
    "l2 = [1, 22, 3, 9, 2]\n",
    "l2.sort()\n",
    "l2"
   ]
  },
  {
   "cell_type": "code",
   "execution_count": 13,
   "metadata": {},
   "outputs": [
    {
     "data": {
      "text/plain": [
       "[1, 2, 'cow']"
      ]
     },
     "execution_count": 13,
     "metadata": {},
     "output_type": "execute_result"
    }
   ],
   "source": [
    "l"
   ]
  },
  {
   "cell_type": "code",
   "execution_count": 14,
   "metadata": {},
   "outputs": [
    {
     "data": {
      "text/plain": [
       "['cow', 2, 1]"
      ]
     },
     "execution_count": 14,
     "metadata": {},
     "output_type": "execute_result"
    }
   ],
   "source": [
    "# reverse\n",
    "l.reverse()\n",
    "l"
   ]
  },
  {
   "cell_type": "markdown",
   "metadata": {},
   "source": [
    "### Range Objects and Lists\n",
    "\n",
    "A nice (short) discussion on Python 3 iterators - https://stackoverflow.com/questions/22147757/iterators-in-python-3"
   ]
  },
  {
   "cell_type": "code",
   "execution_count": 15,
   "metadata": {},
   "outputs": [
    {
     "data": {
      "text/plain": [
       "(range(0, 10), [0, 1, 2, 3, 4, 5, 6, 7, 8, 9])"
      ]
     },
     "execution_count": 15,
     "metadata": {},
     "output_type": "execute_result"
    }
   ],
   "source": [
    "r = range(10)\n",
    "r, list(r)"
   ]
  },
  {
   "cell_type": "code",
   "execution_count": 16,
   "metadata": {},
   "outputs": [
    {
     "data": {
      "text/plain": [
       "(range(7, 24, 2), [7, 9, 11, 13, 15, 17, 19, 21, 23])"
      ]
     },
     "execution_count": 16,
     "metadata": {},
     "output_type": "execute_result"
    }
   ],
   "source": [
    "r = range(7, 24, 2)\n",
    "r, list(r)"
   ]
  },
  {
   "cell_type": "code",
   "execution_count": 17,
   "metadata": {},
   "outputs": [
    {
     "name": "stdout",
     "output_type": "stream",
     "text": [
      "0\n",
      "1\n",
      "2\n",
      "3\n",
      "4\n"
     ]
    }
   ],
   "source": [
    "# Range objects are often used as iterators for loop operations\n",
    "for j in range(5):\n",
    "    print(j)"
   ]
  },
  {
   "cell_type": "code",
   "execution_count": 18,
   "metadata": {},
   "outputs": [
    {
     "name": "stdout",
     "output_type": "stream",
     "text": [
      "T\n",
      "h\n",
      "e\n",
      " \n",
      "d\n",
      "o\n",
      "g\n",
      " \n",
      "a\n",
      "t\n",
      "e\n",
      " \n",
      "m\n",
      "y\n",
      " \n",
      "h\n",
      "o\n",
      "m\n",
      "e\n",
      "w\n",
      "o\n",
      "r\n",
      "k\n",
      ".\n"
     ]
    }
   ],
   "source": [
    "str = \"The dog ate my homework.\"\n",
    "for j in range(len(str)):\n",
    "    print (str[j])\n",
    "# What exactly does the expression range(len(str)) return?"
   ]
  },
  {
   "cell_type": "code",
   "execution_count": 19,
   "metadata": {},
   "outputs": [
    {
     "name": "stdout",
     "output_type": "stream",
     "text": [
      "T\n",
      "h\n",
      "e\n",
      " \n",
      "d\n",
      "o\n",
      "g\n",
      " \n",
      "a\n",
      "t\n",
      "e\n",
      " \n",
      "m\n",
      "y\n",
      " \n",
      "h\n",
      "o\n",
      "m\n",
      "e\n",
      "w\n",
      "o\n",
      "r\n",
      "k\n",
      ".\n"
     ]
    }
   ],
   "source": [
    "# Note that since strings are sequences, they also have iterators\n",
    "for char in str:\n",
    "    print(char)"
   ]
  },
  {
   "cell_type": "code",
   "execution_count": 20,
   "metadata": {},
   "outputs": [
    {
     "name": "stdout",
     "output_type": "stream",
     "text": [
      "one\n",
      "2\n",
      "three\n",
      "4\n",
      "Five\n"
     ]
    }
   ],
   "source": [
    "l = [\"one\", 2, \"three\", 4, 'Five']\n",
    "for j in range(len(l)):\n",
    "    print(l[j])"
   ]
  },
  {
   "cell_type": "code",
   "execution_count": 21,
   "metadata": {},
   "outputs": [
    {
     "name": "stdout",
     "output_type": "stream",
     "text": [
      "one\n",
      "2\n",
      "three\n",
      "4\n",
      "Five\n"
     ]
    }
   ],
   "source": [
    "# Note that list objects also have built-in iterators\n",
    "for item in l:\n",
    "    print(item)"
   ]
  },
  {
   "cell_type": "markdown",
   "metadata": {},
   "source": [
    "## Introduction to List Comprehensions\n",
    "This is an **important** concept in Python world -- comprehensions are your friends!"
   ]
  },
  {
   "cell_type": "code",
   "execution_count": 22,
   "metadata": {},
   "outputs": [
    {
     "data": {
      "text/plain": [
       "[[1, 2, 3], [4, 5, 6], [7, 8, 9]]"
      ]
     },
     "execution_count": 22,
     "metadata": {},
     "output_type": "execute_result"
    }
   ],
   "source": [
    "# Define a matrix\n",
    "m = [ [1, 2, 3]\n",
    "    , [4, 5, 6]\n",
    "    , [7, 8, 9]\n",
    "    ]\n",
    "# Now, m is a list of 3 lists\n",
    "# Equivalent to m = [[1, 2, 3], [4,5,6],[7,8,9]] (A list of three three-element lists)\n",
    "m"
   ]
  },
  {
   "cell_type": "code",
   "execution_count": 23,
   "metadata": {},
   "outputs": [
    {
     "data": {
      "text/plain": [
       "[7, 8, 9]"
      ]
     },
     "execution_count": 23,
     "metadata": {},
     "output_type": "execute_result"
    }
   ],
   "source": [
    "# To extract the third row (as a list)\n",
    "m[2]"
   ]
  },
  {
   "cell_type": "code",
   "execution_count": 24,
   "metadata": {},
   "outputs": [
    {
     "data": {
      "text/plain": [
       "8"
      ]
     },
     "execution_count": 24,
     "metadata": {},
     "output_type": "execute_result"
    }
   ],
   "source": [
    "# the second element of the third row\n",
    "m[2][1]"
   ]
  },
  {
   "cell_type": "code",
   "execution_count": 25,
   "metadata": {},
   "outputs": [
    {
     "data": {
      "text/plain": [
       "[3, 6, 9]"
      ]
     },
     "execution_count": 25,
     "metadata": {},
     "output_type": "execute_result"
    }
   ],
   "source": [
    "# extract the third column using a standard programatic approach:\n",
    "c = []\n",
    "for i in [0, 1, 2]:\n",
    "    c.append(m[i][2])\n",
    "c"
   ]
  },
  {
   "cell_type": "code",
   "execution_count": 26,
   "metadata": {},
   "outputs": [
    {
     "data": {
      "text/plain": [
       "[3, 6, 9]"
      ]
     },
     "execution_count": 26,
     "metadata": {},
     "output_type": "execute_result"
    }
   ],
   "source": [
    "# more generally (works with any length (number of rows) matrix):\n",
    "c = []\n",
    "for i in range(len(m)):\n",
    "    c.append(m[i][2])\n",
    "c"
   ]
  },
  {
   "cell_type": "code",
   "execution_count": 27,
   "metadata": {},
   "outputs": [
    {
     "data": {
      "text/plain": [
       "[3, 6, 9]"
      ]
     },
     "execution_count": 27,
     "metadata": {},
     "output_type": "execute_result"
    }
   ],
   "source": [
    "# or, y using the list iterator rather than an index:\n",
    "c = []\n",
    "for r in m:\n",
    "    c.append(r[2])\n",
    "c"
   ]
  },
  {
   "cell_type": "code",
   "execution_count": 28,
   "metadata": {},
   "outputs": [
    {
     "data": {
      "text/plain": [
       "[3, 6, 9]"
      ]
     },
     "execution_count": 28,
     "metadata": {},
     "output_type": "execute_result"
    }
   ],
   "source": [
    "# or, equivalently - use a list comprehension\n",
    "c = [r[2] for r in m]\n",
    "c"
   ]
  },
  {
   "cell_type": "code",
   "execution_count": 29,
   "metadata": {},
   "outputs": [
    {
     "data": {
      "text/plain": [
       "[1, 5, 9]"
      ]
     },
     "execution_count": 29,
     "metadata": {},
     "output_type": "execute_result"
    }
   ],
   "source": [
    "# to extract the diagonal (upper left to lower right)\n",
    "[m[i][i] for i in [0, 1, 2]]"
   ]
  },
  {
   "cell_type": "code",
   "execution_count": 30,
   "metadata": {},
   "outputs": [
    {
     "data": {
      "text/plain": [
       "[1, 5, 9]"
      ]
     },
     "execution_count": 30,
     "metadata": {},
     "output_type": "execute_result"
    }
   ],
   "source": [
    "# more generally ... (what does this mean \"more generally?\")\n",
    "[m[i][i] for i in range(len(m))]"
   ]
  },
  {
   "cell_type": "code",
   "execution_count": 31,
   "metadata": {},
   "outputs": [
    {
     "data": {
      "text/plain": [
       "[2, 8]"
      ]
     },
     "execution_count": 31,
     "metadata": {},
     "output_type": "execute_result"
    }
   ],
   "source": [
    "# even elements of the second column\n",
    "[r[1] for r in m if r[1] % 2 == 0]\n",
    "# added an \"if condition\" to the comprehension"
   ]
  },
  {
   "cell_type": "code",
   "execution_count": 32,
   "metadata": {},
   "outputs": [
    {
     "data": {
      "text/plain": [
       "[3, 2, 2, 5, 1, 1, 3, 5, 1, 3, 5, 1, 5, 1, 3, 1, 4, 3]"
      ]
     },
     "execution_count": 32,
     "metadata": {},
     "output_type": "execute_result"
    }
   ],
   "source": [
    "# 18 random die rolls\n",
    "import random\n",
    "[random.randint(1, 6) for i in range(18)]\n",
    "# note that the iterator (i) is only used to iterate and isn't used in the expression."
   ]
  },
  {
   "cell_type": "code",
   "execution_count": 33,
   "metadata": {},
   "outputs": [
    {
     "data": {
      "text/plain": [
       "[[2, 1],\n",
       " [4, 3],\n",
       " [3, 1],\n",
       " [3, 1],\n",
       " [1, 3],\n",
       " [5, 2],\n",
       " [2, 1],\n",
       " [5, 3],\n",
       " [3, 6],\n",
       " [5, 5],\n",
       " [3, 4],\n",
       " [4, 5],\n",
       " [5, 1],\n",
       " [5, 1],\n",
       " [3, 6],\n",
       " [6, 4],\n",
       " [5, 1],\n",
       " [5, 4],\n",
       " [5, 4],\n",
       " [2, 2],\n",
       " [2, 4],\n",
       " [4, 4],\n",
       " [5, 5],\n",
       " [5, 3],\n",
       " [3, 3],\n",
       " [6, 5],\n",
       " [5, 2],\n",
       " [3, 3],\n",
       " [1, 2],\n",
       " [5, 6],\n",
       " [5, 3],\n",
       " [1, 3],\n",
       " [4, 4],\n",
       " [6, 4],\n",
       " [3, 1],\n",
       " [6, 1],\n",
       " [3, 3],\n",
       " [5, 3],\n",
       " [3, 2],\n",
       " [2, 1],\n",
       " [5, 6],\n",
       " [2, 4],\n",
       " [5, 3],\n",
       " [2, 6],\n",
       " [3, 3],\n",
       " [6, 1],\n",
       " [6, 4],\n",
       " [2, 3],\n",
       " [6, 2],\n",
       " [6, 4],\n",
       " [5, 3],\n",
       " [3, 3],\n",
       " [5, 3],\n",
       " [3, 4],\n",
       " [2, 4],\n",
       " [3, 4],\n",
       " [2, 2],\n",
       " [2, 6],\n",
       " [6, 1],\n",
       " [3, 1],\n",
       " [1, 1],\n",
       " [2, 6],\n",
       " [6, 1],\n",
       " [2, 4],\n",
       " [3, 1],\n",
       " [3, 4],\n",
       " [3, 2],\n",
       " [4, 3],\n",
       " [3, 4],\n",
       " [3, 4],\n",
       " [6, 4],\n",
       " [2, 3],\n",
       " [3, 4],\n",
       " [4, 6],\n",
       " [1, 4],\n",
       " [4, 5],\n",
       " [3, 1],\n",
       " [5, 4],\n",
       " [4, 5],\n",
       " [5, 4],\n",
       " [5, 4],\n",
       " [1, 1],\n",
       " [4, 6],\n",
       " [2, 2],\n",
       " [1, 6],\n",
       " [6, 4],\n",
       " [6, 4],\n",
       " [2, 5],\n",
       " [6, 5],\n",
       " [5, 5],\n",
       " [5, 1],\n",
       " [3, 5],\n",
       " [5, 5],\n",
       " [4, 1],\n",
       " [3, 4],\n",
       " [6, 6],\n",
       " [5, 2],\n",
       " [1, 1],\n",
       " [5, 4],\n",
       " [4, 4]]"
      ]
     },
     "execution_count": 33,
     "metadata": {},
     "output_type": "execute_result"
    }
   ],
   "source": [
    "# 100 \"craps\" rolls (rolling a pair of dice in each roll)\n",
    "rolls = [[random.randint(1,6), random.randint(1,6)] for i in range(100)]\n",
    "rolls"
   ]
  },
  {
   "cell_type": "code",
   "execution_count": 34,
   "metadata": {},
   "outputs": [
    {
     "data": {
      "text/plain": [
       "[array([4, 1]),\n",
       " array([6, 2]),\n",
       " array([3, 4]),\n",
       " array([2, 3]),\n",
       " array([1, 2]),\n",
       " array([4, 2]),\n",
       " array([1, 2]),\n",
       " array([6, 1]),\n",
       " array([2, 2]),\n",
       " array([3, 5]),\n",
       " array([6, 6]),\n",
       " array([4, 1]),\n",
       " array([3, 5]),\n",
       " array([1, 5]),\n",
       " array([4, 5]),\n",
       " array([4, 4]),\n",
       " array([6, 1]),\n",
       " array([1, 2]),\n",
       " array([5, 2]),\n",
       " array([3, 4]),\n",
       " array([4, 5]),\n",
       " array([1, 5]),\n",
       " array([4, 4]),\n",
       " array([3, 3]),\n",
       " array([6, 1]),\n",
       " array([6, 1]),\n",
       " array([1, 1]),\n",
       " array([3, 4]),\n",
       " array([6, 6]),\n",
       " array([3, 1]),\n",
       " array([1, 1]),\n",
       " array([3, 3]),\n",
       " array([2, 4]),\n",
       " array([1, 1]),\n",
       " array([5, 5]),\n",
       " array([3, 3]),\n",
       " array([6, 6]),\n",
       " array([3, 6]),\n",
       " array([4, 5]),\n",
       " array([5, 4]),\n",
       " array([3, 4]),\n",
       " array([5, 5]),\n",
       " array([2, 4]),\n",
       " array([6, 5]),\n",
       " array([6, 5]),\n",
       " array([4, 1]),\n",
       " array([2, 2]),\n",
       " array([4, 1]),\n",
       " array([3, 4]),\n",
       " array([6, 3]),\n",
       " array([4, 5]),\n",
       " array([2, 6]),\n",
       " array([4, 3]),\n",
       " array([1, 5]),\n",
       " array([1, 5]),\n",
       " array([2, 1]),\n",
       " array([1, 3]),\n",
       " array([3, 5]),\n",
       " array([6, 4]),\n",
       " array([1, 4]),\n",
       " array([3, 6]),\n",
       " array([6, 5]),\n",
       " array([5, 6]),\n",
       " array([6, 3]),\n",
       " array([2, 1]),\n",
       " array([2, 2]),\n",
       " array([4, 2]),\n",
       " array([2, 1]),\n",
       " array([2, 5]),\n",
       " array([6, 6]),\n",
       " array([5, 4]),\n",
       " array([1, 6]),\n",
       " array([3, 6]),\n",
       " array([3, 3]),\n",
       " array([6, 1]),\n",
       " array([3, 4]),\n",
       " array([4, 4]),\n",
       " array([3, 2]),\n",
       " array([5, 3]),\n",
       " array([5, 6]),\n",
       " array([4, 6]),\n",
       " array([3, 3]),\n",
       " array([6, 4]),\n",
       " array([2, 1]),\n",
       " array([6, 1]),\n",
       " array([2, 2]),\n",
       " array([1, 3]),\n",
       " array([3, 2]),\n",
       " array([1, 4]),\n",
       " array([4, 6]),\n",
       " array([4, 3]),\n",
       " array([1, 5]),\n",
       " array([5, 6]),\n",
       " array([5, 2]),\n",
       " array([6, 2]),\n",
       " array([2, 5]),\n",
       " array([2, 2]),\n",
       " array([3, 4]),\n",
       " array([6, 3]),\n",
       " array([2, 4])]"
      ]
     },
     "execution_count": 34,
     "metadata": {},
     "output_type": "execute_result"
    }
   ],
   "source": [
    "# Or, using Numpy (which is vectorized)\n",
    "import numpy as np\n",
    "rolls = [np.random.randint(1, 7, 2) for i in range(100)]\n",
    "rolls\n",
    "# notice that Numpy uses [low, high) and Random uses [Low, High] -- Look at the help to see this."
   ]
  },
  {
   "cell_type": "code",
   "execution_count": 35,
   "metadata": {},
   "outputs": [
    {
     "data": {
      "text/plain": [
       "'Estimate or prob. based on 50,000 samples: 0.1679'"
      ]
     },
     "execution_count": 35,
     "metadata": {},
     "output_type": "execute_result"
    }
   ],
   "source": [
    "# Suppose you'd like to estimate the probability of rolling a '7' ...\n",
    "#  (true prob. is 6/36=.1667)\n",
    "import numpy as np\n",
    "obs = 50000\n",
    "p = len([r for r in [np.random.randint(1, 7, 2) for i in range(obs)] if sum(r) == 7])/obs\n",
    "#\n",
    "# Or, if you want to see it step-by-step - remember, think inside-to-outside, left-to-right.\n",
    "#rolls = [np.random.randint(1, 7, 2) for i in range(obs)]\n",
    "#sevens = [r for r in rolls if sum(r) == 7]\n",
    "#p = len(sevens)/obs\n",
    "\n",
    "\"Estimate or prob. based on {:,d} samples: {:.4f}\".format(obs,p)"
   ]
  },
  {
   "cell_type": "markdown",
   "metadata": {},
   "source": [
    "### Sample List-based Data Structure and Accessing/Processing/Comprehensions"
   ]
  },
  {
   "cell_type": "code",
   "execution_count": 36,
   "metadata": {},
   "outputs": [],
   "source": [
    "# creating a list to define a person\n",
    "person = [\"Tom Howard\", 54, 6.0]\n",
    "\n",
    "# creating a list of lists to define a team\n",
    "people = [\n",
    "    [\"Tom Howard\",          54,  6.0],\n",
    "    [\"Jane Grimm\",          19,  4.9],\n",
    "    [\"Sam Brown\",           25,  6.2],\n",
    "    [\"Sarah Joan Spade\",    26, 5.25],\n",
    "    [\"Blaine Jones\",        62,  5.8],\n",
    "    [\"Devin Callahan\",      32, 5.92],\n",
    "]"
   ]
  },
  {
   "cell_type": "code",
   "execution_count": 37,
   "metadata": {},
   "outputs": [
    {
     "data": {
      "text/plain": [
       "['Tom Howard', 54, 6.0]"
      ]
     },
     "execution_count": 37,
     "metadata": {},
     "output_type": "execute_result"
    }
   ],
   "source": [
    "person"
   ]
  },
  {
   "cell_type": "code",
   "execution_count": 38,
   "metadata": {},
   "outputs": [
    {
     "data": {
      "text/plain": [
       "[['Tom Howard', 54, 6.0],\n",
       " ['Jane Grimm', 19, 4.9],\n",
       " ['Sam Brown', 25, 6.2],\n",
       " ['Sarah Joan Spade', 26, 5.25],\n",
       " ['Blaine Jones', 62, 5.8],\n",
       " ['Devin Callahan', 32, 5.92]]"
      ]
     },
     "execution_count": 38,
     "metadata": {},
     "output_type": "execute_result"
    }
   ],
   "source": [
    "people"
   ]
  },
  {
   "cell_type": "code",
   "execution_count": 39,
   "metadata": {},
   "outputs": [
    {
     "data": {
      "text/plain": [
       "6"
      ]
     },
     "execution_count": 39,
     "metadata": {},
     "output_type": "execute_result"
    }
   ],
   "source": [
    "# How many people on the team\n",
    "len(people)"
   ]
  },
  {
   "cell_type": "code",
   "execution_count": 40,
   "metadata": {},
   "outputs": [
    {
     "name": "stdout",
     "output_type": "stream",
     "text": [
      "Tom Howard is 54 years old\n",
      "Jane Grimm is 19 years old\n",
      "Sam Brown is 25 years old\n",
      "Sarah Joan Spade is 26 years old\n",
      "Blaine Jones is 62 years old\n",
      "Devin Callahan is 32 years old\n"
     ]
    }
   ],
   "source": [
    "# Print each person's name and age\n",
    "for p in people:\n",
    "    print(\"{:} is {:} years old\".format(p[0], p[1]))\n",
    "# In this statement, each p represents a \"record\" in the dataset and\n",
    "# each element of p (it is a list) is an \"attribute\""
   ]
  },
  {
   "cell_type": "code",
   "execution_count": 42,
   "metadata": {},
   "outputs": [
    {
     "data": {
      "text/plain": [
       "['Tom Howard',\n",
       " 'Jane Grimm',\n",
       " 'Sam Brown',\n",
       " 'Sarah Joan Spade',\n",
       " 'Blaine Jones',\n",
       " 'Devin Callahan']"
      ]
     },
     "execution_count": 42,
     "metadata": {},
     "output_type": "execute_result"
    }
   ],
   "source": [
    "# Create a list of all names\n",
    "[p[0] for p in people]"
   ]
  },
  {
   "cell_type": "code",
   "execution_count": 44,
   "metadata": {},
   "outputs": [
    {
     "data": {
      "text/plain": [
       "['Howard', 'Grimm', 'Brown', 'Spade', 'Jones', 'Callahan']"
      ]
     },
     "execution_count": 44,
     "metadata": {},
     "output_type": "execute_result"
    }
   ],
   "source": [
    "# Create a list of all last names\n",
    "[p[0].split()[-1] for p in people]"
   ]
  },
  {
   "cell_type": "code",
   "execution_count": 45,
   "metadata": {},
   "outputs": [
    {
     "data": {
      "text/plain": [
       "[54, 19, 25, 26, 62, 32]"
      ]
     },
     "execution_count": 45,
     "metadata": {},
     "output_type": "execute_result"
    }
   ],
   "source": [
    "# Create a list of all ages\n",
    "[p[1] for p in people]"
   ]
  },
  {
   "cell_type": "code",
   "execution_count": 46,
   "metadata": {},
   "outputs": [
    {
     "data": {
      "text/plain": [
       "36.333333333333336"
      ]
     },
     "execution_count": 46,
     "metadata": {},
     "output_type": "execute_result"
    }
   ],
   "source": [
    "# Compute the average age\n",
    "sum([p[1] for p in people])/float(len(people))"
   ]
  },
  {
   "cell_type": "code",
   "execution_count": 47,
   "metadata": {},
   "outputs": [
    {
     "data": {
      "text/plain": [
       "'The average age of the team members is 36.3 years.'"
      ]
     },
     "execution_count": 47,
     "metadata": {},
     "output_type": "execute_result"
    }
   ],
   "source": [
    "# Using a more human-friendly format\n",
    "\"The average age of the team members is {:.1f} years.\".format(\n",
    "    sum([p[1] for p in people])/float(len(people))\n",
    ")\n",
    "# Note that the previous examples create anonymous objects -- nothing\n",
    "# persists after dispalaying the expressions and the memory is \n",
    "# marked for garbage collection."
   ]
  },
  {
   "cell_type": "code",
   "execution_count": 51,
   "metadata": {},
   "outputs": [
    {
     "data": {
      "text/plain": [
       "'Blaine Jones'"
      ]
     },
     "execution_count": 51,
     "metadata": {},
     "output_type": "execute_result"
    }
   ],
   "source": [
    "# Find the oldest person.  Go though step-by-step, uncommenting lines to\n",
    "# see the progress.\n",
    "# max age\n",
    "ages =[p[1] for p in people] \n",
    "max(ages)\n",
    "# which is max? - 62\n",
    "ages.index(62)\n",
    "# who - person 4\n",
    "people[4][0]"
   ]
  },
  {
   "cell_type": "code",
   "execution_count": 52,
   "metadata": {},
   "outputs": [
    {
     "data": {
      "text/plain": [
       "'Blaine Jones'"
      ]
     },
     "execution_count": 52,
     "metadata": {},
     "output_type": "execute_result"
    }
   ],
   "source": [
    "# all together\n",
    "people[[p[1] for p in people].index(max([p[1] for p in people]))][0]"
   ]
  },
  {
   "cell_type": "code",
   "execution_count": 53,
   "metadata": {},
   "outputs": [
    {
     "data": {
      "text/plain": [
       "'Jane Grimm'"
      ]
     },
     "execution_count": 53,
     "metadata": {},
     "output_type": "execute_result"
    }
   ],
   "source": [
    "# Find the youngest person\n",
    "people[[p[1] for p in people].index(min([p[1] for p in people]))][0]"
   ]
  },
  {
   "cell_type": "code",
   "execution_count": 54,
   "metadata": {},
   "outputs": [
    {
     "data": {
      "text/plain": [
       "'Blaine Jones'"
      ]
     },
     "execution_count": 54,
     "metadata": {},
     "output_type": "execute_result"
    }
   ],
   "source": [
    "# Supposed that we had defined variaables to store the \"column numbers\" -- the\n",
    "#  indices into the internal lists for the given data items\n",
    "name   = 0\n",
    "age    = 1\n",
    "height = 2\n",
    "# Now, we can use these instead of the literals in all of the expressions\n",
    "# For example.  \n",
    "people[[p[age] for p in people].index(max([p[age] for p in people]))][name]\n",
    "# now it's a little clearer that we're looking for the name of the oldest person\n",
    "# Further, if we add or remove columns from the data set, can simply update the\n",
    "# index variables and all of the expression code will still work as expected.\n"
   ]
  },
  {
   "cell_type": "markdown",
   "metadata": {},
   "source": [
    "### Dictionaries"
   ]
  },
  {
   "cell_type": "code",
   "execution_count": 23,
   "metadata": {},
   "outputs": [
    {
     "data": {
      "text/plain": [
       "{'a': 123, 'b': 345, 'c': 789}"
      ]
     },
     "execution_count": 23,
     "metadata": {},
     "output_type": "execute_result"
    }
   ],
   "source": [
    "# A dictionary is similar to a list, but uses a 'key' rather than an integer\n",
    "# index to specify 'location' in the dictionary.\n",
    "# Dictionaries are very useful, but there's usually a bit of a learning curve\n",
    "d = {\"a\": 123, \"b\": 345, \"c\": 789}\n",
    "d"
   ]
  },
  {
   "cell_type": "code",
   "execution_count": 24,
   "metadata": {},
   "outputs": [
    {
     "data": {
      "text/plain": [
       "(123, 345, 789)"
      ]
     },
     "execution_count": 24,
     "metadata": {},
     "output_type": "execute_result"
    }
   ],
   "source": [
    "d['a'], d['b'], d['c']"
   ]
  },
  {
   "cell_type": "code",
   "execution_count": 25,
   "metadata": {},
   "outputs": [
    {
     "data": {
      "text/plain": [
       "123"
      ]
     },
     "execution_count": 25,
     "metadata": {},
     "output_type": "execute_result"
    }
   ],
   "source": [
    "my_key = 'a'\n",
    "d[my_key]"
   ]
  },
  {
   "cell_type": "code",
   "execution_count": 26,
   "metadata": {},
   "outputs": [
    {
     "name": "stdout",
     "output_type": "stream",
     "text": [
      "123\n",
      "345\n",
      "789\n"
     ]
    }
   ],
   "source": [
    "for k in ['a', 'b','c']:\n",
    "    print(d[k])"
   ]
  },
  {
   "cell_type": "code",
   "execution_count": 27,
   "metadata": {},
   "outputs": [
    {
     "data": {
      "text/plain": [
       "dict_keys(['a', 'b', 'c'])"
      ]
     },
     "execution_count": 27,
     "metadata": {},
     "output_type": "execute_result"
    }
   ],
   "source": [
    "# all of the keys\n",
    "d.keys()"
   ]
  },
  {
   "cell_type": "code",
   "execution_count": 28,
   "metadata": {},
   "outputs": [
    {
     "data": {
      "text/plain": [
       "['a', 'b', 'c']"
      ]
     },
     "execution_count": 28,
     "metadata": {},
     "output_type": "execute_result"
    }
   ],
   "source": [
    "# as a list\n",
    "list(d.keys())"
   ]
  },
  {
   "cell_type": "code",
   "execution_count": 29,
   "metadata": {},
   "outputs": [
    {
     "name": "stdout",
     "output_type": "stream",
     "text": [
      "123\n",
      "345\n",
      "789\n"
     ]
    }
   ],
   "source": [
    "# iterator -- note that the key is the iterator\n",
    "for k in d:\n",
    "    print(d[k])"
   ]
  },
  {
   "cell_type": "code",
   "execution_count": 30,
   "metadata": {},
   "outputs": [
    {
     "data": {
      "text/plain": [
       "dict_values([123, 345, 789])"
      ]
     },
     "execution_count": 30,
     "metadata": {},
     "output_type": "execute_result"
    }
   ],
   "source": [
    "d.values()"
   ]
  },
  {
   "cell_type": "code",
   "execution_count": 31,
   "metadata": {},
   "outputs": [
    {
     "data": {
      "text/plain": [
       "[123, 345, 789]"
      ]
     },
     "execution_count": 31,
     "metadata": {},
     "output_type": "execute_result"
    }
   ],
   "source": [
    "list(d.values())"
   ]
  },
  {
   "cell_type": "code",
   "execution_count": 32,
   "metadata": {},
   "outputs": [
    {
     "data": {
      "text/plain": [
       "{'one': [1, 2, 3, 4, 5],\n",
       " 'two': [6, 7, 8, 9, 10],\n",
       " 'three': [127, 96, 455, 32, 5]}"
      ]
     },
     "execution_count": 32,
     "metadata": {},
     "output_type": "execute_result"
    }
   ],
   "source": [
    "# a dictionary of lists\n",
    "dl = { \n",
    "     'one' : [1, 2, 3, 4, 5]\n",
    "    ,'two' : [6, 7, 8, 9, 10]\n",
    "    ,'three' : [127, 96, 455, 32, 5] \n",
    "}\n",
    "dl"
   ]
  },
  {
   "cell_type": "code",
   "execution_count": 33,
   "metadata": {},
   "outputs": [
    {
     "name": "stdout",
     "output_type": "stream",
     "text": [
      "[1, 2, 3, 4, 5]\n",
      "[6, 7, 8, 9, 10]\n",
      "[127, 96, 455, 32, 5]\n"
     ]
    }
   ],
   "source": [
    "for key in dl:\n",
    "    print(dl[key])"
   ]
  },
  {
   "cell_type": "code",
   "execution_count": 34,
   "metadata": {},
   "outputs": [
    {
     "name": "stdout",
     "output_type": "stream",
     "text": [
      "1\n",
      "2\n",
      "3\n",
      "4\n",
      "5\n",
      "6\n",
      "7\n",
      "8\n",
      "9\n",
      "10\n",
      "127\n",
      "96\n",
      "455\n",
      "32\n",
      "5\n"
     ]
    }
   ],
   "source": [
    "for key in dl:\n",
    "    for e in dl[key]:\n",
    "        print(e)"
   ]
  },
  {
   "cell_type": "code",
   "execution_count": 35,
   "metadata": {},
   "outputs": [
    {
     "data": {
      "text/plain": [
       "{'name': 'Joe', 'class': 'sr', 'grade': 92}"
      ]
     },
     "execution_count": 35,
     "metadata": {},
     "output_type": "execute_result"
    }
   ],
   "source": [
    "student = {'name': 'Joe', 'class':'sr', 'grade':92}\n",
    "student"
   ]
  },
  {
   "cell_type": "code",
   "execution_count": 36,
   "metadata": {},
   "outputs": [
    {
     "data": {
      "text/plain": [
       "92"
      ]
     },
     "execution_count": 36,
     "metadata": {},
     "output_type": "execute_result"
    }
   ],
   "source": [
    "student['grade']"
   ]
  },
  {
   "cell_type": "code",
   "execution_count": 38,
   "metadata": {},
   "outputs": [],
   "source": [
    "# Nested dictionaries\n",
    "students = {\n",
    "    'Jane Doe'   : {'ID':'b0001','Gender': 'F','HW1':95,'HW2':87, 'HW3':92,'Exam1': 88,'Exam2':93,'FinalExam':90},\n",
    "    'John Blue'  : {'ID':'b0002','Gender': 'M','HW1':55,'HW2':76, 'HW3':89,'Exam1': 77,'Exam2':82,'FinalExam':80},\n",
    "    'Kim Tester' : {'ID':'b0003','Gender': 'F','HW1':80,'HW2':75, 'HW3':65,'Exam1': 70,'Exam2':75,'FinalExam':80},\n",
    "    'Larry Black': {'ID':'b0004','Gender': 'M','HW1':90,'HW2':90, 'HW3':92,'Exam1': 95,'Exam2':85,'FinalExam':94},\n",
    "    'Susan White': {'ID':'b0005','Gender': 'F','HW1':65,'HW2':52, 'HW3':85,'Exam1': 45,'Exam2':80,'FinalExam':82}\n",
    "    }\n"
   ]
  },
  {
   "cell_type": "code",
   "execution_count": 39,
   "metadata": {},
   "outputs": [
    {
     "name": "stdout",
     "output_type": "stream",
     "text": [
      "Jane Doe\n",
      "John Blue\n",
      "Kim Tester\n",
      "Larry Black\n",
      "Susan White\n"
     ]
    }
   ],
   "source": [
    "# show all students\n",
    "for student in students:\n",
    "    print (student)"
   ]
  },
  {
   "cell_type": "code",
   "execution_count": 40,
   "metadata": {},
   "outputs": [
    {
     "name": "stdout",
     "output_type": "stream",
     "text": [
      "Jane Doe made a 90 on the final exam\n",
      "John Blue made a 80 on the final exam\n",
      "Kim Tester made a 80 on the final exam\n",
      "Larry Black made a 94 on the final exam\n",
      "Susan White made a 82 on the final exam\n"
     ]
    }
   ],
   "source": [
    "# Final Exams\n",
    "for student in students:\n",
    "    print (\"{:} made a {:d} on the final exam\".format(student, students[student]['FinalExam']))"
   ]
  },
  {
   "cell_type": "code",
   "execution_count": null,
   "metadata": {},
   "outputs": [],
   "source": []
  }
 ],
 "metadata": {
  "kernelspec": {
   "display_name": "Python 3",
   "language": "python",
   "name": "python3"
  },
  "language_info": {
   "codemirror_mode": {
    "name": "ipython",
    "version": 3
   },
   "file_extension": ".py",
   "mimetype": "text/x-python",
   "name": "python",
   "nbconvert_exporter": "python",
   "pygments_lexer": "ipython3",
   "version": "3.8.3"
  }
 },
 "nbformat": 4,
 "nbformat_minor": 2
}
